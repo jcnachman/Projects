{
 "cells": [
  {
   "cell_type": "markdown",
   "metadata": {},
   "source": [
    "## Data Sources:\n",
    "\n",
    "[ENGIE’s first open data windfarm](https://opendata-renewables.engie.com/)\n",
    "\n",
    "[La Haute Borne Data (2013-2016)](https://opendata-renewables.engie.com/explore/dataset/d543716b-368d-4c53-8fb1-55addbe8d3ad/information)\n",
    "\n",
    "[La Haute Borne Data (2017-2020)](https://opendata-renewables.engie.com/explore/dataset/01c55756-5cd6-4f60-9f63-2d771bb25a1a/table)\n",
    "\n",
    "- [Data Descriptions](https://opendata-renewables.engie.com/explore/dataset/39490fd2-04a2-4622-9042-ce4dd34c2a58/information)"
   ]
  },
  {
   "cell_type": "markdown",
   "metadata": {},
   "source": [
    "## Anomaly Detection:\n",
    "\n",
    "[Wondering how to build an anomaly detection model?](https://towardsdatascience.com/wondering-how-to-build-an-anomaly-detection-model-87d28e50309)\n",
    "\n",
    "[Best clustering algorithms for anomaly detection](https://towardsdatascience.com/best-clustering-algorithms-for-anomaly-detection-d5b7412537c8)\n",
    "\n",
    "[An Awesome Tutorial to Learn Outlier Detection in Python using PyOD Library](https://www.analyticsvidhya.com/blog/2019/02/outlier-detection-python-pyod/)\n",
    "\n",
    "[Anomaly Detection for Dummies](https://towardsdatascience.com/anomaly-detection-for-dummies-15f148e559c1)\n",
    "\n",
    "[Anomaly Detection : Isolation Forest with Statistical Rules](https://towardsdatascience.com/isolation-forest-with-statistical-rules-4dd27dad2da9)\n",
    "\n",
    "[Anomaly Detection Using Isolation Forest in Python](https://blog.paperspace.com/anomaly-detection-isolation-forest/)\n",
    "\n",
    "Paper on [Isolation Forest for Anomaly Detection](http://www.ncsa.illinois.edu/Conferences/LSST18/assets/pdfs/hariri_forest.pdf)\n",
    "\n",
    "Explanation of [Isolation Forest Parameters](https://scikit-learn.org/stable/modules/generated/sklearn.ensemble.IsolationForest.html)\n",
    "\n",
    "Charu C. Aggarwal's 'Outlier Analysis' book: [first chapter](http://www.charuaggarwal.net/outlierbook.pdf)"
   ]
  },
  {
   "cell_type": "markdown",
   "metadata": {},
   "source": [
    "## Time Series:\n",
    "\n",
    "[How a Kalman filter works, in pictures](https://www.bzarg.com/p/how-a-kalman-filter-works-in-pictures/)\n",
    "\n",
    "[Kalman Filters: A step by step implementation guide in python](https://towardsdatascience.com/kalman-filters-a-step-by-step-implementation-guide-in-python-91e7e123b968)\n",
    "\n",
    "[Time Series Analysis & Climate Change](https://towardsdatascience.com/time-series-analysis-and-climate-change-7bb4371021e)\n",
    "\n",
    "[Analysis of Time Series Data on Wind Turbine Loads](http://www.ce.utexas.edu/prof/manuel/papers/trexreport_aaronsterns.pdf)\n",
    "\n",
    "[Holt Winters](https://www.statsmodels.org/stable/examples/notebooks/generated/exponential_smoothing.html)\n",
    "\n",
    "[How to Build Exponential Smoothing Models Using Python: Simple Exponential Smoothing, Holt, and Holt-Winters](https://medium.com/datadriveninvestor/how-to-build-exponential-smoothing-models-using-python-simple-exponential-smoothing-holt-and-da371189e1a1)\n",
    "\n",
    "[Stack Overflow](https://stackoverflow.com/questions/50785479/holt-winters-time-series-forecasting-with-statsmodels)\n",
    "\n",
    "[statsmodels.tsa.holtwinters.ExponentialSmoothing](https://www.statsmodels.org/dev/generated/statsmodels.tsa.holtwinters.ExponentialSmoothing.html)"
   ]
  },
  {
   "cell_type": "markdown",
   "metadata": {},
   "source": [
    "## Wind Turbines:\n",
    "\n",
    "[Turbine Size](https://oneenergy.com/wind-knowledge/wind-turbine-information/)\n",
    "\n",
    "[Predicting Wind Turbine Blade Erosion using Machine Learning](https://scholar.smu.edu/cgi/viewcontent.cgi?article=1110&context=datasciencereview)\n",
    "\n",
    "[Guidelines for a preliminary windfarm data-driven analysis](https://medium.com/@mbonanomi/guidelines-for-a-preliminary-windfarm-data-driven-analysis-f4793f840ef2)\n",
    "\n",
    "[Welcome to windrose’s documentation!](https://windrose.readthedocs.io/en/latest/)\n",
    "\n",
    "[Weather.us](https://weather.us/model-charts/euro/europe/wind-mean-direction.html)"
   ]
  },
  {
   "cell_type": "markdown",
   "metadata": {},
   "source": [
    "## Open license:\n",
    "- [LICENCE OUVERTE / OPEN LICENCE](https://www.etalab.gouv.fr/wp-content/uploads/2017/04/ETALAB-Licence-Ouverte-v2.0.pdf)"
   ]
  },
  {
   "cell_type": "code",
   "execution_count": null,
   "metadata": {},
   "outputs": [],
   "source": []
  }
 ],
 "metadata": {
  "kernelspec": {
   "display_name": "Python [conda env:metis] *",
   "language": "python",
   "name": "conda-env-metis-py"
  },
  "language_info": {
   "codemirror_mode": {
    "name": "ipython",
    "version": 3
   },
   "file_extension": ".py",
   "mimetype": "text/x-python",
   "name": "python",
   "nbconvert_exporter": "python",
   "pygments_lexer": "ipython3",
   "version": "3.7.4"
  },
  "toc": {
   "base_numbering": 1,
   "nav_menu": {},
   "number_sections": true,
   "sideBar": true,
   "skip_h1_title": false,
   "title_cell": "Table of Contents",
   "title_sidebar": "Contents",
   "toc_cell": false,
   "toc_position": {},
   "toc_section_display": true,
   "toc_window_display": false
  },
  "varInspector": {
   "cols": {
    "lenName": 16,
    "lenType": 16,
    "lenVar": 40
   },
   "kernels_config": {
    "python": {
     "delete_cmd_postfix": "",
     "delete_cmd_prefix": "del ",
     "library": "var_list.py",
     "varRefreshCmd": "print(var_dic_list())"
    },
    "r": {
     "delete_cmd_postfix": ") ",
     "delete_cmd_prefix": "rm(",
     "library": "var_list.r",
     "varRefreshCmd": "cat(var_dic_list()) "
    }
   },
   "types_to_exclude": [
    "module",
    "function",
    "builtin_function_or_method",
    "instance",
    "_Feature"
   ],
   "window_display": false
  }
 },
 "nbformat": 4,
 "nbformat_minor": 2
}
