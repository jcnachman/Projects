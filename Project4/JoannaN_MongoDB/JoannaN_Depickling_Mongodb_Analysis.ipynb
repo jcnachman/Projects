{
 "cells": [
  {
   "cell_type": "markdown",
   "metadata": {},
   "source": [
    "### Unpickle album_reviews2"
   ]
  },
  {
   "cell_type": "code",
   "execution_count": 1,
   "metadata": {},
   "outputs": [],
   "source": [
    "import pandas as pd\n",
    "import re\n",
    "import json\n",
    "import pickle"
   ]
  },
  {
   "cell_type": "code",
   "execution_count": 2,
   "metadata": {},
   "outputs": [
    {
     "data": {
      "text/html": [
       "<div>\n",
       "<style scoped>\n",
       "    .dataframe tbody tr th:only-of-type {\n",
       "        vertical-align: middle;\n",
       "    }\n",
       "\n",
       "    .dataframe tbody tr th {\n",
       "        vertical-align: top;\n",
       "    }\n",
       "\n",
       "    .dataframe thead th {\n",
       "        text-align: right;\n",
       "    }\n",
       "</style>\n",
       "<table border=\"1\" class=\"dataframe\">\n",
       "  <thead>\n",
       "    <tr style=\"text-align: right;\">\n",
       "      <th></th>\n",
       "      <th>Author</th>\n",
       "      <th>Titles</th>\n",
       "      <th>Publication</th>\n",
       "      <th>Artist</th>\n",
       "      <th>Album_Name</th>\n",
       "      <th>Genre</th>\n",
       "      <th>Score</th>\n",
       "      <th>Summary</th>\n",
       "      <th>Contents</th>\n",
       "    </tr>\n",
       "  </thead>\n",
       "  <tbody>\n",
       "    <tr>\n",
       "      <th>0</th>\n",
       "      <td>Sheldon Pearce</td>\n",
       "      <td>[BTS, Map of the Soul: 7 Album Review, Pitchfork]</td>\n",
       "      <td>Pitchfork</td>\n",
       "      <td>BTS</td>\n",
       "      <td>Map of the Soul: 7</td>\n",
       "      <td>Pop/R&amp;B</td>\n",
       "      <td>6.3</td>\n",
       "      <td>The K-pop group’s latest is part memoir, part ...</td>\n",
       "      <td>The K-pop groups latest is part memoir, part f...</td>\n",
       "    </tr>\n",
       "    <tr>\n",
       "      <th>1</th>\n",
       "      <td>Ruth Saxelby</td>\n",
       "      <td>[Various Artists, Kulør 006 Album Review, Pitc...</td>\n",
       "      <td>Pitchfork</td>\n",
       "      <td>Various Artists</td>\n",
       "      <td>Kulør 006</td>\n",
       "      <td>Electronic</td>\n",
       "      <td>7.5</td>\n",
       "      <td>The Danish DJ Courtesy’s label pivots from Cop...</td>\n",
       "      <td>The Danish DJ Courtesys label pivots from Cope...</td>\n",
       "    </tr>\n",
       "    <tr>\n",
       "      <th>2</th>\n",
       "      <td>Cat Zhang</td>\n",
       "      <td>[Sunny Jain, Wild Wild East Album Review, Pitc...</td>\n",
       "      <td>Pitchfork</td>\n",
       "      <td>Sunny Jain</td>\n",
       "      <td>Wild Wild East</td>\n",
       "      <td>Experimental</td>\n",
       "      <td>6.8</td>\n",
       "      <td>The composer and jazz multi-instrumentalist ex...</td>\n",
       "      <td>The composer and jazz multi-instrumentalist ex...</td>\n",
       "    </tr>\n",
       "    <tr>\n",
       "      <th>3</th>\n",
       "      <td>Andy Beta</td>\n",
       "      <td>[AceMoMA, A New Dawn Album Review, Pitchfork]</td>\n",
       "      <td>Pitchfork</td>\n",
       "      <td>AceMoMA</td>\n",
       "      <td>A New Dawn</td>\n",
       "      <td>Electronic</td>\n",
       "      <td>7.6</td>\n",
       "      <td>Rising New York fixtures AceMo and MoMA Ready ...</td>\n",
       "      <td>Rising New York fixtures AceMo and MoMA Ready ...</td>\n",
       "    </tr>\n",
       "    <tr>\n",
       "      <th>4</th>\n",
       "      <td>Paul A. Thompson</td>\n",
       "      <td>[Boldy James, The Price of Tea in China Album ...</td>\n",
       "      <td>Pitchfork</td>\n",
       "      <td>Boldy James</td>\n",
       "      <td>The Price of Tea in China</td>\n",
       "      <td>Rap</td>\n",
       "      <td>8.0</td>\n",
       "      <td>On their latest collaboration, the Detroit rap...</td>\n",
       "      <td>On their latest collaboration, the Detroit rap...</td>\n",
       "    </tr>\n",
       "    <tr>\n",
       "      <th>...</th>\n",
       "      <td>...</td>\n",
       "      <td>...</td>\n",
       "      <td>...</td>\n",
       "      <td>...</td>\n",
       "      <td>...</td>\n",
       "      <td>...</td>\n",
       "      <td>...</td>\n",
       "      <td>...</td>\n",
       "      <td>...</td>\n",
       "    </tr>\n",
       "    <tr>\n",
       "      <th>1182</th>\n",
       "      <td>Larry Fitzmaurice</td>\n",
       "      <td>[Diplo, Europa EP Album Review, Pitchfork]</td>\n",
       "      <td>Pitchfork</td>\n",
       "      <td>Diplo</td>\n",
       "      <td>Europa EP</td>\n",
       "      <td>Electronic</td>\n",
       "      <td>4.2</td>\n",
       "      <td>Despite trending toward pop in recent years, t...</td>\n",
       "      <td>Despite trending toward pop in recent years, t...</td>\n",
       "    </tr>\n",
       "    <tr>\n",
       "      <th>1183</th>\n",
       "      <td>Eric Torres</td>\n",
       "      <td>[IAMDDB, Swervvvvv.5 Album Review, Pitchfork]</td>\n",
       "      <td>Pitchfork</td>\n",
       "      <td>IAMDDB</td>\n",
       "      <td>Swervvvvv.5</td>\n",
       "      <td>Rap</td>\n",
       "      <td>7.3</td>\n",
       "      <td>On her supposedly final mixtape before she iss...</td>\n",
       "      <td>On her supposedly final mixtape before she iss...</td>\n",
       "    </tr>\n",
       "    <tr>\n",
       "      <th>1184</th>\n",
       "      <td>Stephen Kearse</td>\n",
       "      <td>[Offset, Father of 4 Album Review, Pitchfork]</td>\n",
       "      <td>Pitchfork</td>\n",
       "      <td>Offset</td>\n",
       "      <td>Father of 4</td>\n",
       "      <td>Rap</td>\n",
       "      <td>6.9</td>\n",
       "      <td>Though it’s undermined by its inertia and lack...</td>\n",
       "      <td>Though its undermined by its inertia and lack ...</td>\n",
       "    </tr>\n",
       "    <tr>\n",
       "      <th>1185</th>\n",
       "      <td>Olivia Horn</td>\n",
       "      <td>[Julia Jacklin, Crushing Album Review, Pitchfork]</td>\n",
       "      <td>Pitchfork</td>\n",
       "      <td>Julia Jacklin</td>\n",
       "      <td>Crushing</td>\n",
       "      <td>Rock</td>\n",
       "      <td>7.7</td>\n",
       "      <td>On an album that mines failed relationships fo...</td>\n",
       "      <td>On an album that mines failed relationships fo...</td>\n",
       "    </tr>\n",
       "    <tr>\n",
       "      <th>1186</th>\n",
       "      <td>Sheldon Pearce</td>\n",
       "      <td>[Gunna, Drip or Drown 2 Album Review, Pitchfork]</td>\n",
       "      <td>Pitchfork</td>\n",
       "      <td>Gunna</td>\n",
       "      <td>Drip or Drown 2</td>\n",
       "      <td>Rap</td>\n",
       "      <td>6.7</td>\n",
       "      <td>The drowsy Atlanta rapper polishes his style a...</td>\n",
       "      <td>The drowsy Atlanta rapper polishes his style a...</td>\n",
       "    </tr>\n",
       "  </tbody>\n",
       "</table>\n",
       "<p>1187 rows × 9 columns</p>\n",
       "</div>"
      ],
      "text/plain": [
       "                 Author                                             Titles  \\\n",
       "0        Sheldon Pearce  [BTS, Map of the Soul: 7 Album Review, Pitchfork]   \n",
       "1          Ruth Saxelby  [Various Artists, Kulør 006 Album Review, Pitc...   \n",
       "2             Cat Zhang  [Sunny Jain, Wild Wild East Album Review, Pitc...   \n",
       "3             Andy Beta      [AceMoMA, A New Dawn Album Review, Pitchfork]   \n",
       "4      Paul A. Thompson  [Boldy James, The Price of Tea in China Album ...   \n",
       "...                 ...                                                ...   \n",
       "1182  Larry Fitzmaurice         [Diplo, Europa EP Album Review, Pitchfork]   \n",
       "1183        Eric Torres      [IAMDDB, Swervvvvv.5 Album Review, Pitchfork]   \n",
       "1184     Stephen Kearse      [Offset, Father of 4 Album Review, Pitchfork]   \n",
       "1185       Olivia Horn   [Julia Jacklin, Crushing Album Review, Pitchfork]   \n",
       "1186     Sheldon Pearce   [Gunna, Drip or Drown 2 Album Review, Pitchfork]   \n",
       "\n",
       "     Publication           Artist                 Album_Name         Genre  \\\n",
       "0      Pitchfork              BTS         Map of the Soul: 7       Pop/R&B   \n",
       "1      Pitchfork  Various Artists                  Kulør 006    Electronic   \n",
       "2      Pitchfork       Sunny Jain             Wild Wild East  Experimental   \n",
       "3      Pitchfork          AceMoMA                 A New Dawn    Electronic   \n",
       "4      Pitchfork      Boldy James  The Price of Tea in China           Rap   \n",
       "...          ...              ...                        ...           ...   \n",
       "1182   Pitchfork            Diplo                  Europa EP    Electronic   \n",
       "1183   Pitchfork           IAMDDB                Swervvvvv.5           Rap   \n",
       "1184   Pitchfork           Offset                Father of 4           Rap   \n",
       "1185   Pitchfork    Julia Jacklin                   Crushing          Rock   \n",
       "1186   Pitchfork            Gunna            Drip or Drown 2           Rap   \n",
       "\n",
       "     Score                                            Summary  \\\n",
       "0      6.3  The K-pop group’s latest is part memoir, part ...   \n",
       "1      7.5  The Danish DJ Courtesy’s label pivots from Cop...   \n",
       "2      6.8  The composer and jazz multi-instrumentalist ex...   \n",
       "3      7.6  Rising New York fixtures AceMo and MoMA Ready ...   \n",
       "4      8.0  On their latest collaboration, the Detroit rap...   \n",
       "...    ...                                                ...   \n",
       "1182   4.2  Despite trending toward pop in recent years, t...   \n",
       "1183   7.3  On her supposedly final mixtape before she iss...   \n",
       "1184   6.9  Though it’s undermined by its inertia and lack...   \n",
       "1185   7.7  On an album that mines failed relationships fo...   \n",
       "1186   6.7  The drowsy Atlanta rapper polishes his style a...   \n",
       "\n",
       "                                               Contents  \n",
       "0     The K-pop groups latest is part memoir, part f...  \n",
       "1     The Danish DJ Courtesys label pivots from Cope...  \n",
       "2     The composer and jazz multi-instrumentalist ex...  \n",
       "3     Rising New York fixtures AceMo and MoMA Ready ...  \n",
       "4     On their latest collaboration, the Detroit rap...  \n",
       "...                                                 ...  \n",
       "1182  Despite trending toward pop in recent years, t...  \n",
       "1183  On her supposedly final mixtape before she iss...  \n",
       "1184  Though its undermined by its inertia and lack ...  \n",
       "1185  On an album that mines failed relationships fo...  \n",
       "1186  The drowsy Atlanta rapper polishes his style a...  \n",
       "\n",
       "[1187 rows x 9 columns]"
      ]
     },
     "execution_count": 2,
     "metadata": {},
     "output_type": "execute_result"
    }
   ],
   "source": [
    "unpickled_df = pd.read_pickle(\"./album_reviews2.pkl\")\n",
    "unpickled_df"
   ]
  },
  {
   "cell_type": "code",
   "execution_count": 3,
   "metadata": {},
   "outputs": [],
   "source": [
    "# unpickled_df['Contents'] =  [re.sub(r'\\\\\\\\u\\d+','', str(x)) for x in unpickled_df['Contents']]"
   ]
  },
  {
   "cell_type": "markdown",
   "metadata": {},
   "source": [
    "\n",
    "\n",
    "\n",
    "### Dataframe to JSON\n",
    "\n"
   ]
  },
  {
   "cell_type": "code",
   "execution_count": 4,
   "metadata": {},
   "outputs": [],
   "source": [
    "# unpickled_json = unpickled_df.to_json(orient='index')\n",
    "unpickled_df.T.to_json('pitchforkdftojson.json')"
   ]
  },
  {
   "cell_type": "markdown",
   "metadata": {},
   "source": [
    "### There's still some weird encoding issues to fix"
   ]
  },
  {
   "cell_type": "code",
   "execution_count": 7,
   "metadata": {},
   "outputs": [],
   "source": [
    "# fixed_json1 = unpickled_json.replace('\\\\u2019s','') \n",
    "# fixed_json1 = fixed_json1.replace('\\\\u00c0d\\\\u00e1','')\n",
    "# fixed_json1 = fixed_json1.replace('\\\\/','')\n",
    "# fixed_json1 = fixed_json1.replace('\\\\','')\n",
    "# # fixed_json1 = fixed_json1.replace('\\','') # this one doesn't work for some reason"
   ]
  },
  {
   "cell_type": "code",
   "execution_count": null,
   "metadata": {},
   "outputs": [],
   "source": [
    "# # Run again to remove single backslash \\\n",
    "# fixed_json1 = fixed_json1.replace('\\\\','')"
   ]
  },
  {
   "cell_type": "code",
   "execution_count": 6,
   "metadata": {},
   "outputs": [],
   "source": [
    "# fixed_json1"
   ]
  },
  {
   "cell_type": "code",
   "execution_count": null,
   "metadata": {},
   "outputs": [],
   "source": [
    "# with open('pitchforkreviews.json', 'w') as outfile:\n",
    "#     json.dump(fixed_json1, outfile)"
   ]
  },
  {
   "cell_type": "markdown",
   "metadata": {},
   "source": [
    "### Push JSON to mongodb"
   ]
  },
  {
   "cell_type": "code",
   "execution_count": null,
   "metadata": {},
   "outputs": [],
   "source": [
    "# Terminal to start service:\n",
    "# sudo service mongod start\n",
    "# sudo service mongod status"
   ]
  },
  {
   "cell_type": "code",
   "execution_count": null,
   "metadata": {},
   "outputs": [],
   "source": [
    "## Ran this command in termal from this folder: ..curriculum/project-04/JoannaN-Project4/\n",
    "## DB = PitchforkReviews; collection = PitchforkCollection\n",
    "#mongoimport --db PitchforkReviews --collection PitchforkCollection --file pitchforkdftojson.json"
   ]
  },
  {
   "cell_type": "markdown",
   "metadata": {},
   "source": [
    "## Mongo DB: "
   ]
  },
  {
   "cell_type": "markdown",
   "metadata": {},
   "source": [
    "### Mongodb Pairs\n",
    "http://localhost:8888/notebooks/pairs/mongo/solution/pair_mongo_solutions.ipynb"
   ]
  },
  {
   "cell_type": "code",
   "execution_count": 5,
   "metadata": {},
   "outputs": [],
   "source": [
    "from pymongo import MongoClient\n",
    "from pprint import pprint"
   ]
  },
  {
   "cell_type": "code",
   "execution_count": 23,
   "metadata": {},
   "outputs": [],
   "source": [
    "# This creates a client that uses the default port on localhost.\n",
    "# If connecting to AWS, you need a connection string.\n",
    "# Can do the same thing with MongoClient(\"mongodb://localhost:27017\")\n",
    "client = MongoClient()"
   ]
  },
  {
   "cell_type": "code",
   "execution_count": 24,
   "metadata": {},
   "outputs": [],
   "source": [
    "# Makes it look similar to shell mongo\n",
    "# This should create the database \"PitchforkReviews\"\n",
    "db = client.PitchforkReviews"
   ]
  },
  {
   "cell_type": "code",
   "execution_count": 25,
   "metadata": {},
   "outputs": [],
   "source": [
    "# Assign a collection name or access specific collection\n",
    "collection = db[\"PitchforkCollection\"] "
   ]
  },
  {
   "cell_type": "code",
   "execution_count": 26,
   "metadata": {},
   "outputs": [
    {
     "name": "stdout",
     "output_type": "stream",
     "text": [
      "['PitchforkReviews', 'admin', 'books', 'config', 'database', 'local', 'outings']\n"
     ]
    }
   ],
   "source": [
    "# Show me my databases\n",
    "print(client.list_database_names())"
   ]
  },
  {
   "cell_type": "markdown",
   "metadata": {},
   "source": [
    "Show the collections that are in the 'PitchforkReviews' database"
   ]
  },
  {
   "cell_type": "code",
   "execution_count": 27,
   "metadata": {},
   "outputs": [
    {
     "data": {
      "text/plain": [
       "['PitchforkCollection']"
      ]
     },
     "execution_count": 27,
     "metadata": {},
     "output_type": "execute_result"
    }
   ],
   "source": [
    "db.list_collection_names()"
   ]
  },
  {
   "cell_type": "code",
   "execution_count": 28,
   "metadata": {},
   "outputs": [],
   "source": [
    "PitchforkCollection = db.get_collection('PitchforkCollection')"
   ]
  },
  {
   "cell_type": "markdown",
   "metadata": {},
   "source": [
    "How many documents are in there?"
   ]
  },
  {
   "cell_type": "code",
   "execution_count": 29,
   "metadata": {},
   "outputs": [
    {
     "data": {
      "text/plain": [
       "1"
      ]
     },
     "execution_count": 29,
     "metadata": {},
     "output_type": "execute_result"
    }
   ],
   "source": [
    "PitchforkCollection.estimated_document_count()"
   ]
  },
  {
   "cell_type": "code",
   "execution_count": 22,
   "metadata": {},
   "outputs": [],
   "source": [
    "for PC in PitchforkCollection.find():\n",
    "    print(PC)"
   ]
  },
  {
   "cell_type": "markdown",
   "metadata": {},
   "source": [
    "#### Drop collection:"
   ]
  },
  {
   "cell_type": "code",
   "execution_count": 30,
   "metadata": {},
   "outputs": [],
   "source": [
    "# db.drop_collection(\"PitchforkCollection\")"
   ]
  },
  {
   "cell_type": "code",
   "execution_count": 31,
   "metadata": {},
   "outputs": [],
   "source": [
    "# db.list_collection_names()"
   ]
  },
  {
   "cell_type": "markdown",
   "metadata": {},
   "source": [
    "## Import data back into pandas from mongodb for cleaning"
   ]
  },
  {
   "cell_type": "code",
   "execution_count": 32,
   "metadata": {},
   "outputs": [],
   "source": [
    "import pymongo"
   ]
  },
  {
   "cell_type": "code",
   "execution_count": 33,
   "metadata": {},
   "outputs": [],
   "source": [
    "PitchforkRevs = pd.DataFrame(list(PitchforkCollection.find()))"
   ]
  },
  {
   "cell_type": "code",
   "execution_count": 34,
   "metadata": {},
   "outputs": [
    {
     "data": {
      "text/plain": [
       "{'Author': 'Sheldon Pearce',\n",
       " 'Titles': ['Gunna', 'Drip or Drown 2 Album Review', 'Pitchfork'],\n",
       " 'Publication': 'Pitchfork',\n",
       " 'Artist': 'Gunna',\n",
       " 'Album_Name': 'Drip or Drown 2',\n",
       " 'Genre': 'Rap',\n",
       " 'Score': '6.7',\n",
       " 'Summary': 'The drowsy Atlanta rapper polishes his style and submits some of his best songs, but the same thing that makes Gunna dependable also makes him predictable.',\n",
       " 'Contents': 'The drowsy Atlanta rapper polishes his style and submits some of his best songs, but the same thing that makes Gunna dependable also makes him predictable. After breaking through a year ago with Drip Season 3, Gunna has quickly become a certified rap star, peaking with an album alongside fellow rising local and like-minded droner Lil Baby called Drip Harder. Following a somewhat limited start, he eventually broke new ground with a near-perfect trifecta: a show-stealing spot on Travis Scotts Astroworld (Yosemite), the Lil Baby tag-teamer Drip Too Hard, and the Metro Boomin-produced aerodynamic study Space Cadet, all songs that advanced his writing, his execution, or his range. Drip or Drown 2 does not further the strides taken on those songs but retreats back toward the center of his sound. And yet it is still the best Gunna solo effort to date, owed primarily to his pronounced understanding of what the average Gunna song does well and how exactly to replicate those same effects. Gunna is what an inhibited Young Thug might sound like. A protege of the eccentric 300 rapper signed to his YSL imprint and deeply indebted to him stylistically, Gunna raps like his mentor is very tired. Theres a monotonic quality to his performances, in tune and intensity, even as his flows twist and turn. If Thugs method is astral projection, one impulsive out-of-body experience after another, Gunnas is closer to lucid dreaming. His sequences seem to have no beginnings or ends, no entry points, with hooks segueing into verses and vice versa, a string of perpetual non sequiturs (I lied at the precinct/I didnt sign a 360) that can range from the completely random (buying pants for Young Thug in Japan that cost more than he made at his show) to the personal (riding in a plushed-out Benz feeling like the world was in his hands). He never seems to punch in. He is amid an endless transition. Their complementary styles overlap on 3 Headed Snake, where the pair is constantly switching places over Wheezy production, with Gunna naturally following Thugs lead. But there are moments when Thug pops out of the mixJeepers creepers, the gators got measles, shit!/I fucked up the bank, bought a rose gold shank, he yowls at one pointdemonstrating a very obvious distance between them. The same predisposition that makes Gunna dependable makes him predictable, and it is holding him back. Gunna has a very clear and obvious wheelhouse hes reluctant to stray from, perhaps because it has led him directly to a Top 5 first sales week and a platinum single. In lieu of outward travel, then, he has opted to go deeper. These cuts take standard Gunna formats and reinforce them, reimagining several of his best songs in the process. Richard Millie Plain nearly transposes Sold Out Dates, but these flows lurch forth. On a Mountain flips Oh Okay, his whack-a-mole routine with Thug and Baby, and stretches out the melodies. Across the entire album, he is polishing his well-established Gunna maneuvers. His bars vary from the goofy (She made me bust a nut, thats a starburst) to the confusingly profound (Time is poured on me when I ride that Maybach), but its his ability to apply his signature inflection to just about any rhythm he conjures up that can make Drip or Drown 2 nearly hypnotizing. Be it the closed-loop chants of Wit It and Same Yung Nigga or the clipped chirps of Speed It Up, Gunna has an uncanny feel for settling his mellowed croons into the thick of any beat; here produced primarily by Wheezy and Turbo, that means bending in and out of shape with washed-out guitar riffs (Yao Ming), flickering synths (Derrick Fisher), and guzheng plucks (Who You Foolin). Occasionally, things all come together for Gunna, when the tune-fueled run-on sentences generate sudden, seeming out-of-the-ether observations that flatter him, as on IDK Why: I dont work for free/The salesmen that know me in Barneys say I smell like Biscotti mixed with Creed, he raps, slipping in an arbitrary but memorable detail that shows some personality. There are just enough of these moments on Drip or Drown 2 to distract from the fact Gunna has yet to take a real, meaningful risk. '}"
      ]
     },
     "execution_count": 34,
     "metadata": {},
     "output_type": "execute_result"
    }
   ],
   "source": [
    "PitchforkCollection.find()[0]['1186']"
   ]
  },
  {
   "cell_type": "code",
   "execution_count": 35,
   "metadata": {},
   "outputs": [
    {
     "data": {
      "text/html": [
       "<div>\n",
       "<style scoped>\n",
       "    .dataframe tbody tr th:only-of-type {\n",
       "        vertical-align: middle;\n",
       "    }\n",
       "\n",
       "    .dataframe tbody tr th {\n",
       "        vertical-align: top;\n",
       "    }\n",
       "\n",
       "    .dataframe thead th {\n",
       "        text-align: right;\n",
       "    }\n",
       "</style>\n",
       "<table border=\"1\" class=\"dataframe\">\n",
       "  <thead>\n",
       "    <tr style=\"text-align: right;\">\n",
       "      <th></th>\n",
       "      <th>Author</th>\n",
       "      <th>Titles</th>\n",
       "      <th>Publication</th>\n",
       "      <th>Artist</th>\n",
       "      <th>Album_Name</th>\n",
       "      <th>Genre</th>\n",
       "      <th>Score</th>\n",
       "      <th>Summary</th>\n",
       "      <th>Contents</th>\n",
       "    </tr>\n",
       "  </thead>\n",
       "  <tbody>\n",
       "    <tr>\n",
       "      <th>0</th>\n",
       "      <td>Sheldon Pearce</td>\n",
       "      <td>[BTS, Map of the Soul: 7 Album Review, Pitchfork]</td>\n",
       "      <td>Pitchfork</td>\n",
       "      <td>BTS</td>\n",
       "      <td>Map of the Soul: 7</td>\n",
       "      <td>Pop/R&amp;B</td>\n",
       "      <td>6.3</td>\n",
       "      <td>The K-pop group’s latest is part memoir, part ...</td>\n",
       "      <td>The K-pop groups latest is part memoir, part f...</td>\n",
       "    </tr>\n",
       "    <tr>\n",
       "      <th>1</th>\n",
       "      <td>Ruth Saxelby</td>\n",
       "      <td>[Various Artists, Kulør 006 Album Review, Pitc...</td>\n",
       "      <td>Pitchfork</td>\n",
       "      <td>Various Artists</td>\n",
       "      <td>Kulør 006</td>\n",
       "      <td>Electronic</td>\n",
       "      <td>7.5</td>\n",
       "      <td>The Danish DJ Courtesy’s label pivots from Cop...</td>\n",
       "      <td>The Danish DJ Courtesys label pivots from Cope...</td>\n",
       "    </tr>\n",
       "    <tr>\n",
       "      <th>2</th>\n",
       "      <td>Cat Zhang</td>\n",
       "      <td>[Sunny Jain, Wild Wild East Album Review, Pitc...</td>\n",
       "      <td>Pitchfork</td>\n",
       "      <td>Sunny Jain</td>\n",
       "      <td>Wild Wild East</td>\n",
       "      <td>Experimental</td>\n",
       "      <td>6.8</td>\n",
       "      <td>The composer and jazz multi-instrumentalist ex...</td>\n",
       "      <td>The composer and jazz multi-instrumentalist ex...</td>\n",
       "    </tr>\n",
       "    <tr>\n",
       "      <th>3</th>\n",
       "      <td>Andy Beta</td>\n",
       "      <td>[AceMoMA, A New Dawn Album Review, Pitchfork]</td>\n",
       "      <td>Pitchfork</td>\n",
       "      <td>AceMoMA</td>\n",
       "      <td>A New Dawn</td>\n",
       "      <td>Electronic</td>\n",
       "      <td>7.6</td>\n",
       "      <td>Rising New York fixtures AceMo and MoMA Ready ...</td>\n",
       "      <td>Rising New York fixtures AceMo and MoMA Ready ...</td>\n",
       "    </tr>\n",
       "    <tr>\n",
       "      <th>4</th>\n",
       "      <td>Paul A. Thompson</td>\n",
       "      <td>[Boldy James, The Price of Tea in China Album ...</td>\n",
       "      <td>Pitchfork</td>\n",
       "      <td>Boldy James</td>\n",
       "      <td>The Price of Tea in China</td>\n",
       "      <td>Rap</td>\n",
       "      <td>8.0</td>\n",
       "      <td>On their latest collaboration, the Detroit rap...</td>\n",
       "      <td>On their latest collaboration, the Detroit rap...</td>\n",
       "    </tr>\n",
       "    <tr>\n",
       "      <th>...</th>\n",
       "      <td>...</td>\n",
       "      <td>...</td>\n",
       "      <td>...</td>\n",
       "      <td>...</td>\n",
       "      <td>...</td>\n",
       "      <td>...</td>\n",
       "      <td>...</td>\n",
       "      <td>...</td>\n",
       "      <td>...</td>\n",
       "    </tr>\n",
       "    <tr>\n",
       "      <th>1182</th>\n",
       "      <td>Larry Fitzmaurice</td>\n",
       "      <td>[Diplo, Europa EP Album Review, Pitchfork]</td>\n",
       "      <td>Pitchfork</td>\n",
       "      <td>Diplo</td>\n",
       "      <td>Europa EP</td>\n",
       "      <td>Electronic</td>\n",
       "      <td>4.2</td>\n",
       "      <td>Despite trending toward pop in recent years, t...</td>\n",
       "      <td>Despite trending toward pop in recent years, t...</td>\n",
       "    </tr>\n",
       "    <tr>\n",
       "      <th>1183</th>\n",
       "      <td>Eric Torres</td>\n",
       "      <td>[IAMDDB, Swervvvvv.5 Album Review, Pitchfork]</td>\n",
       "      <td>Pitchfork</td>\n",
       "      <td>IAMDDB</td>\n",
       "      <td>Swervvvvv.5</td>\n",
       "      <td>Rap</td>\n",
       "      <td>7.3</td>\n",
       "      <td>On her supposedly final mixtape before she iss...</td>\n",
       "      <td>On her supposedly final mixtape before she iss...</td>\n",
       "    </tr>\n",
       "    <tr>\n",
       "      <th>1184</th>\n",
       "      <td>Stephen Kearse</td>\n",
       "      <td>[Offset, Father of 4 Album Review, Pitchfork]</td>\n",
       "      <td>Pitchfork</td>\n",
       "      <td>Offset</td>\n",
       "      <td>Father of 4</td>\n",
       "      <td>Rap</td>\n",
       "      <td>6.9</td>\n",
       "      <td>Though it’s undermined by its inertia and lack...</td>\n",
       "      <td>Though its undermined by its inertia and lack ...</td>\n",
       "    </tr>\n",
       "    <tr>\n",
       "      <th>1185</th>\n",
       "      <td>Olivia Horn</td>\n",
       "      <td>[Julia Jacklin, Crushing Album Review, Pitchfork]</td>\n",
       "      <td>Pitchfork</td>\n",
       "      <td>Julia Jacklin</td>\n",
       "      <td>Crushing</td>\n",
       "      <td>Rock</td>\n",
       "      <td>7.7</td>\n",
       "      <td>On an album that mines failed relationships fo...</td>\n",
       "      <td>On an album that mines failed relationships fo...</td>\n",
       "    </tr>\n",
       "    <tr>\n",
       "      <th>1186</th>\n",
       "      <td>Sheldon Pearce</td>\n",
       "      <td>[Gunna, Drip or Drown 2 Album Review, Pitchfork]</td>\n",
       "      <td>Pitchfork</td>\n",
       "      <td>Gunna</td>\n",
       "      <td>Drip or Drown 2</td>\n",
       "      <td>Rap</td>\n",
       "      <td>6.7</td>\n",
       "      <td>The drowsy Atlanta rapper polishes his style a...</td>\n",
       "      <td>The drowsy Atlanta rapper polishes his style a...</td>\n",
       "    </tr>\n",
       "  </tbody>\n",
       "</table>\n",
       "<p>1187 rows × 9 columns</p>\n",
       "</div>"
      ],
      "text/plain": [
       "                 Author                                             Titles  \\\n",
       "0        Sheldon Pearce  [BTS, Map of the Soul: 7 Album Review, Pitchfork]   \n",
       "1          Ruth Saxelby  [Various Artists, Kulør 006 Album Review, Pitc...   \n",
       "2             Cat Zhang  [Sunny Jain, Wild Wild East Album Review, Pitc...   \n",
       "3             Andy Beta      [AceMoMA, A New Dawn Album Review, Pitchfork]   \n",
       "4      Paul A. Thompson  [Boldy James, The Price of Tea in China Album ...   \n",
       "...                 ...                                                ...   \n",
       "1182  Larry Fitzmaurice         [Diplo, Europa EP Album Review, Pitchfork]   \n",
       "1183        Eric Torres      [IAMDDB, Swervvvvv.5 Album Review, Pitchfork]   \n",
       "1184     Stephen Kearse      [Offset, Father of 4 Album Review, Pitchfork]   \n",
       "1185       Olivia Horn   [Julia Jacklin, Crushing Album Review, Pitchfork]   \n",
       "1186     Sheldon Pearce   [Gunna, Drip or Drown 2 Album Review, Pitchfork]   \n",
       "\n",
       "     Publication           Artist                 Album_Name         Genre  \\\n",
       "0      Pitchfork              BTS         Map of the Soul: 7       Pop/R&B   \n",
       "1      Pitchfork  Various Artists                  Kulør 006    Electronic   \n",
       "2      Pitchfork       Sunny Jain             Wild Wild East  Experimental   \n",
       "3      Pitchfork          AceMoMA                 A New Dawn    Electronic   \n",
       "4      Pitchfork      Boldy James  The Price of Tea in China           Rap   \n",
       "...          ...              ...                        ...           ...   \n",
       "1182   Pitchfork            Diplo                  Europa EP    Electronic   \n",
       "1183   Pitchfork           IAMDDB                Swervvvvv.5           Rap   \n",
       "1184   Pitchfork           Offset                Father of 4           Rap   \n",
       "1185   Pitchfork    Julia Jacklin                   Crushing          Rock   \n",
       "1186   Pitchfork            Gunna            Drip or Drown 2           Rap   \n",
       "\n",
       "     Score                                            Summary  \\\n",
       "0      6.3  The K-pop group’s latest is part memoir, part ...   \n",
       "1      7.5  The Danish DJ Courtesy’s label pivots from Cop...   \n",
       "2      6.8  The composer and jazz multi-instrumentalist ex...   \n",
       "3      7.6  Rising New York fixtures AceMo and MoMA Ready ...   \n",
       "4      8.0  On their latest collaboration, the Detroit rap...   \n",
       "...    ...                                                ...   \n",
       "1182   4.2  Despite trending toward pop in recent years, t...   \n",
       "1183   7.3  On her supposedly final mixtape before she iss...   \n",
       "1184   6.9  Though it’s undermined by its inertia and lack...   \n",
       "1185   7.7  On an album that mines failed relationships fo...   \n",
       "1186   6.7  The drowsy Atlanta rapper polishes his style a...   \n",
       "\n",
       "                                               Contents  \n",
       "0     The K-pop groups latest is part memoir, part f...  \n",
       "1     The Danish DJ Courtesys label pivots from Cope...  \n",
       "2     The composer and jazz multi-instrumentalist ex...  \n",
       "3     Rising New York fixtures AceMo and MoMA Ready ...  \n",
       "4     On their latest collaboration, the Detroit rap...  \n",
       "...                                                 ...  \n",
       "1182  Despite trending toward pop in recent years, t...  \n",
       "1183  On her supposedly final mixtape before she iss...  \n",
       "1184  Though its undermined by its inertia and lack ...  \n",
       "1185  On an album that mines failed relationships fo...  \n",
       "1186  The drowsy Atlanta rapper polishes his style a...  \n",
       "\n",
       "[1187 rows x 9 columns]"
      ]
     },
     "execution_count": 35,
     "metadata": {},
     "output_type": "execute_result"
    }
   ],
   "source": [
    "df = (pd.DataFrame((db.PitchforkCollection.find()[0]))).T\n",
    "Pitchfork_df = df.drop(['_id']) # drop first row\n",
    "Pitchfork_df"
   ]
  },
  {
   "cell_type": "markdown",
   "metadata": {},
   "source": [
    "### Pickle this to us in a separate notebook for preprocessing"
   ]
  },
  {
   "cell_type": "code",
   "execution_count": 36,
   "metadata": {},
   "outputs": [],
   "source": [
    "Pitchfork_df.to_pickle(\"./Pitchfork_df.pkl\")"
   ]
  },
  {
   "cell_type": "code",
   "execution_count": null,
   "metadata": {},
   "outputs": [],
   "source": []
  },
  {
   "cell_type": "code",
   "execution_count": null,
   "metadata": {},
   "outputs": [],
   "source": []
  },
  {
   "cell_type": "code",
   "execution_count": null,
   "metadata": {},
   "outputs": [],
   "source": []
  }
 ],
 "metadata": {
  "kernelspec": {
   "display_name": "Python [conda env:metis] *",
   "language": "python",
   "name": "conda-env-metis-py"
  },
  "language_info": {
   "codemirror_mode": {
    "name": "ipython",
    "version": 3
   },
   "file_extension": ".py",
   "mimetype": "text/x-python",
   "name": "python",
   "nbconvert_exporter": "python",
   "pygments_lexer": "ipython3",
   "version": "3.7.4"
  },
  "toc": {
   "base_numbering": 1,
   "nav_menu": {},
   "number_sections": true,
   "sideBar": true,
   "skip_h1_title": false,
   "title_cell": "Table of Contents",
   "title_sidebar": "Contents",
   "toc_cell": false,
   "toc_position": {},
   "toc_section_display": true,
   "toc_window_display": false
  },
  "varInspector": {
   "cols": {
    "lenName": 16,
    "lenType": 16,
    "lenVar": 40
   },
   "kernels_config": {
    "python": {
     "delete_cmd_postfix": "",
     "delete_cmd_prefix": "del ",
     "library": "var_list.py",
     "varRefreshCmd": "print(var_dic_list())"
    },
    "r": {
     "delete_cmd_postfix": ") ",
     "delete_cmd_prefix": "rm(",
     "library": "var_list.r",
     "varRefreshCmd": "cat(var_dic_list()) "
    }
   },
   "types_to_exclude": [
    "module",
    "function",
    "builtin_function_or_method",
    "instance",
    "_Feature"
   ],
   "window_display": false
  }
 },
 "nbformat": 4,
 "nbformat_minor": 2
}
