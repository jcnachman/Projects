{
 "cells": [
  {
   "cell_type": "markdown",
   "metadata": {},
   "source": [
    "## Pull in reviews for albums not currently in model:\n",
    "- For me: Crystal Castles [Crystal Castles](https://pitchfork.com/reviews/albums/14190-crystal-castles/)\n",
    "- For me: Lana Del Rey's [Born to Die](https://pitchfork.com/reviews/albums/16223-lana-del-rey/)\n",
    "- For me: Disclosure [Settle](https://pitchfork.com/reviews/albums/18091-disclosure-settle/)\n",
    "- For Jeff: Chance the Rapper [Acid Rap](https://pitchfork.com/reviews/albums/18105-chance-the-rapper-acid-rap/)\n",
    "- For Jeff: Common [Like Water for Chocolate](https://pitchfork.com/reviews/albums/1564-like-water-for-chocolate/) \n",
    "- For Jeff: Freddie Gibbs [Pinata](https://pitchfork.com/reviews/albums/18930-freddie-gibbs-and-madlib-pinata/)\n",
    "- For Mom: Bob Dylan [Blood on the Tracks](https://pitchfork.com/reviews/albums/22485-blood-on-the-tracks/)\n",
    "- For Dad: The Beatles [Revolver](https://pitchfork.com/reviews/albums/13434-revolver/)\n",
    "- For Abbey: Guns N' Roses [Appetite for Destruction](https://pitchfork.com/reviews/albums/guns-n-roses-appetite-for-destruction/)\n",
    "- For Abbey: Taylor Swift [1989](https://pitchfork.com/reviews/albums/taylor-swift-1989/)\n",
    "- For Abbey: Oasis [(What's the Story) Morning Glory?](https://pitchfork.com/reviews/albums/19771-oasis-whats-the-story-morning-glory/)"
   ]
  },
  {
   "cell_type": "code",
   "execution_count": 1,
   "metadata": {},
   "outputs": [],
   "source": [
    "from bs4 import BeautifulSoup\n",
    "import requests\n",
    "import pprint\n",
    "\n",
    "import re\n",
    "import pandas as pd"
   ]
  },
  {
   "cell_type": "markdown",
   "metadata": {},
   "source": [
    "### Create a list of the articles"
   ]
  },
  {
   "cell_type": "code",
   "execution_count": 2,
   "metadata": {},
   "outputs": [
    {
     "data": {
      "text/plain": [
       "['https://pitchfork.com/reviews/albums/14190-crystal-castles/',\n",
       " 'https://pitchfork.com/reviews/albums/16223-lana-del-rey/',\n",
       " 'https://pitchfork.com/reviews/albums/18091-disclosure-settle/',\n",
       " 'https://pitchfork.com/reviews/albums/18105-chance-the-rapper-acid-rap/',\n",
       " 'https://pitchfork.com/reviews/albums/1564-like-water-for-chocolate/',\n",
       " 'https://pitchfork.com/reviews/albums/18930-freddie-gibbs-and-madlib-pinata/',\n",
       " 'https://pitchfork.com/reviews/albums/22485-blood-on-the-tracks/',\n",
       " 'https://pitchfork.com/reviews/albums/13434-revolver/',\n",
       " 'https://pitchfork.com/reviews/albums/guns-n-roses-appetite-for-destruction/',\n",
       " 'https://pitchfork.com/reviews/albums/taylor-swift-1989/',\n",
       " 'https://pitchfork.com/reviews/albums/19771-oasis-whats-the-story-morning-glory/']"
      ]
     },
     "execution_count": 2,
     "metadata": {},
     "output_type": "execute_result"
    }
   ],
   "source": [
    "article_link_list = ['https://pitchfork.com/reviews/albums/14190-crystal-castles/','https://pitchfork.com/reviews/albums/16223-lana-del-rey/','https://pitchfork.com/reviews/albums/18091-disclosure-settle/','https://pitchfork.com/reviews/albums/18105-chance-the-rapper-acid-rap/','https://pitchfork.com/reviews/albums/1564-like-water-for-chocolate/','https://pitchfork.com/reviews/albums/18930-freddie-gibbs-and-madlib-pinata/','https://pitchfork.com/reviews/albums/22485-blood-on-the-tracks/','https://pitchfork.com/reviews/albums/13434-revolver/','https://pitchfork.com/reviews/albums/guns-n-roses-appetite-for-destruction/','https://pitchfork.com/reviews/albums/taylor-swift-1989/','https://pitchfork.com/reviews/albums/19771-oasis-whats-the-story-morning-glory/']\n",
    "article_link_list"
   ]
  },
  {
   "cell_type": "code",
   "execution_count": 3,
   "metadata": {},
   "outputs": [],
   "source": [
    "# Define a function contents_in_link that returns the contents of the links within the All_review_links1\n",
    "# variable and store as a variable named link_contents\n",
    "def contents_in_link():\n",
    "    contents_list = []\n",
    "    for art_list in article_link_list: # for each link within the list of lists\n",
    "            url = art_list\n",
    "            response = requests.get(url)\n",
    "            page = response.text\n",
    "            soup = BeautifulSoup(page,\"lxml\")\n",
    "            contents_list.append(soup)    \n",
    "    return contents_list\n",
    "\n",
    "link_contents = contents_in_link()"
   ]
  },
  {
   "cell_type": "markdown",
   "metadata": {},
   "source": [
    "### Return author:"
   ]
  },
  {
   "cell_type": "code",
   "execution_count": 4,
   "metadata": {},
   "outputs": [
    {
     "data": {
      "text/plain": [
       "['Ian Cohen',\n",
       " 'Lindsay Zoladz',\n",
       " 'Larry Fitzmaurice',\n",
       " 'Jeff Weiss',\n",
       " 'Taylor M. Clark',\n",
       " 'Nate Patrin',\n",
       " 'Jesse Jarnow',\n",
       " 'Scott Plagenhoef',\n",
       " 'Maura Johnston',\n",
       " 'Vrinda Jagota',\n",
       " 'Stuart Berman']"
      ]
     },
     "execution_count": 4,
     "metadata": {},
     "output_type": "execute_result"
    }
   ],
   "source": [
    "author_list = []\n",
    "\n",
    "for lc in link_contents:\n",
    "    try: \n",
    "        author_list.append(lc.find(class_='article-meta article-meta--reviews').find('a').text)\n",
    "    except:\n",
    "        author_list.append('No author')\n",
    "        \n",
    "author_list"
   ]
  },
  {
   "cell_type": "code",
   "execution_count": null,
   "metadata": {},
   "outputs": [],
   "source": []
  },
  {
   "cell_type": "markdown",
   "metadata": {},
   "source": [
    "### Return scores:"
   ]
  },
  {
   "cell_type": "code",
   "execution_count": 5,
   "metadata": {},
   "outputs": [
    {
     "data": {
      "text/plain": [
       "['8.5', '5.5', '9.1', '8.4', '8.7', '8.0', '10', '10', '10', '7.7', '8.9']"
      ]
     },
     "execution_count": 5,
     "metadata": {},
     "output_type": "execute_result"
    }
   ],
   "source": [
    "review_score = []\n",
    "\n",
    "for lc in link_contents:\n",
    "    try:\n",
    "        review_score.append(lc.find(class_='single-album-tombstone').find(class_='score').text)\n",
    "    except:\n",
    "        review_score.append('No score')\n",
    "\n",
    "review_score  "
   ]
  },
  {
   "cell_type": "markdown",
   "metadata": {},
   "source": [
    "### Return Title:"
   ]
  },
  {
   "cell_type": "code",
   "execution_count": 6,
   "metadata": {},
   "outputs": [
    {
     "data": {
      "text/plain": [
       "['Crystal Castles: Crystal Castles Album Review | Pitchfork',\n",
       " 'Lana Del Rey: Born to Die Album Review | Pitchfork',\n",
       " 'Disclosure: Settle Album Review | Pitchfork',\n",
       " 'Chance the Rapper: Acid Rap Album Review | Pitchfork',\n",
       " 'Common: Like Water for Chocolate Album Review | Pitchfork',\n",
       " 'Madlib / Freddie Gibbs: Piñata Album Review | Pitchfork',\n",
       " 'Bob Dylan: Blood on the Tracks Album Review | Pitchfork',\n",
       " 'The Beatles: Revolver Album Review | Pitchfork',\n",
       " \"Guns N' Roses: Appetite for Destruction Album Review | Pitchfork\",\n",
       " 'Taylor Swift: 1989 Album Review | Pitchfork',\n",
       " \"Oasis: (What's the Story) Morning Glory? Album Review | Pitchfork\"]"
      ]
     },
     "execution_count": 6,
     "metadata": {},
     "output_type": "execute_result"
    }
   ],
   "source": [
    "# Find all review titles\n",
    "review_titles = []\n",
    "\n",
    "for lc in link_contents:\n",
    "    review_titles.append(lc.find('title').text)\n",
    "    \n",
    "review_titles"
   ]
  },
  {
   "cell_type": "markdown",
   "metadata": {},
   "source": [
    "### Pull out artist,  album, and publication name"
   ]
  },
  {
   "cell_type": "code",
   "execution_count": 7,
   "metadata": {},
   "outputs": [
    {
     "data": {
      "text/plain": [
       "[['Crystal Castles', 'Crystal Castles Album Review', 'Pitchfork'],\n",
       " ['Lana Del Rey', 'Born to Die Album Review', 'Pitchfork'],\n",
       " ['Disclosure', 'Settle Album Review', 'Pitchfork'],\n",
       " ['Chance the Rapper', 'Acid Rap Album Review', 'Pitchfork'],\n",
       " ['Common', 'Like Water for Chocolate Album Review', 'Pitchfork'],\n",
       " ['Madlib / Freddie Gibbs', 'Piñata Album Review', 'Pitchfork'],\n",
       " ['Bob Dylan', 'Blood on the Tracks Album Review', 'Pitchfork'],\n",
       " ['The Beatles', 'Revolver Album Review', 'Pitchfork'],\n",
       " [\"Guns N' Roses\", 'Appetite for Destruction Album Review', 'Pitchfork'],\n",
       " ['Taylor Swift', '1989 Album Review', 'Pitchfork'],\n",
       " ['Oasis', \"(What's the Story) Morning Glory? Album Review\", 'Pitchfork']]"
      ]
     },
     "execution_count": 7,
     "metadata": {},
     "output_type": "execute_result"
    }
   ],
   "source": [
    "rt_list = []\n",
    "\n",
    "for rt in review_titles:\n",
    "    rt_list.append(rt.replace(': ',' | ', 1)) # replace : with |\n",
    "\n",
    "titles_split = []\n",
    "\n",
    "for rtl in rt_list:\n",
    "    titles_split.append(rtl.split(' | '))\n",
    "\n",
    "titles_split"
   ]
  },
  {
   "cell_type": "markdown",
   "metadata": {},
   "source": [
    "### Pull out publication name:"
   ]
  },
  {
   "cell_type": "code",
   "execution_count": 8,
   "metadata": {},
   "outputs": [
    {
     "data": {
      "text/plain": [
       "['Pitchfork',\n",
       " 'Pitchfork',\n",
       " 'Pitchfork',\n",
       " 'Pitchfork',\n",
       " 'Pitchfork',\n",
       " 'Pitchfork',\n",
       " 'Pitchfork',\n",
       " 'Pitchfork',\n",
       " 'Pitchfork',\n",
       " 'Pitchfork',\n",
       " 'Pitchfork']"
      ]
     },
     "execution_count": 8,
     "metadata": {},
     "output_type": "execute_result"
    }
   ],
   "source": [
    "publication_name_list = []\n",
    "\n",
    "for ts in titles_split:\n",
    "    try:\n",
    "        publication_name_list.append(ts[2])\n",
    "    except:\n",
    "        publication_name_list.append('No publication')\n",
    "\n",
    "publication_name_list"
   ]
  },
  {
   "cell_type": "markdown",
   "metadata": {},
   "source": [
    "### Pull out artist:"
   ]
  },
  {
   "cell_type": "code",
   "execution_count": 9,
   "metadata": {},
   "outputs": [
    {
     "data": {
      "text/plain": [
       "['Crystal Castles',\n",
       " 'Lana Del Rey',\n",
       " 'Disclosure',\n",
       " 'Chance the Rapper',\n",
       " 'Common',\n",
       " 'Madlib / Freddie Gibbs',\n",
       " 'Bob Dylan',\n",
       " 'The Beatles',\n",
       " \"Guns N' Roses\",\n",
       " 'Taylor Swift',\n",
       " 'Oasis']"
      ]
     },
     "execution_count": 9,
     "metadata": {},
     "output_type": "execute_result"
    }
   ],
   "source": [
    "artist_list = []\n",
    "\n",
    "for ts in titles_split:\n",
    "    artist_list.append(ts[0])\n",
    "\n",
    "artist_list"
   ]
  },
  {
   "cell_type": "markdown",
   "metadata": {},
   "source": [
    "### Pull out album:"
   ]
  },
  {
   "cell_type": "code",
   "execution_count": 10,
   "metadata": {},
   "outputs": [
    {
     "data": {
      "text/plain": [
       "['Crystal Castles Album Review',\n",
       " 'Born to Die Album Review',\n",
       " 'Settle Album Review',\n",
       " 'Acid Rap Album Review',\n",
       " 'Like Water for Chocolate Album Review',\n",
       " 'Piñata Album Review',\n",
       " 'Blood on the Tracks Album Review',\n",
       " 'Revolver Album Review',\n",
       " 'Appetite for Destruction Album Review',\n",
       " '1989 Album Review',\n",
       " \"(What's the Story) Morning Glory? Album Review\"]"
      ]
     },
     "execution_count": 10,
     "metadata": {},
     "output_type": "execute_result"
    }
   ],
   "source": [
    "album_list = []\n",
    "\n",
    "for ts in titles_split:\n",
    "    try:\n",
    "        album_list.append(ts[1])\n",
    "    except:\n",
    "        album_list.append('No album')\n",
    "\n",
    "album_list"
   ]
  },
  {
   "cell_type": "markdown",
   "metadata": {},
   "source": [
    "### Replace Album Review:"
   ]
  },
  {
   "cell_type": "code",
   "execution_count": 11,
   "metadata": {},
   "outputs": [
    {
     "data": {
      "text/plain": [
       "['Crystal Castles',\n",
       " 'Born to Die',\n",
       " 'Settle',\n",
       " 'Acid Rap',\n",
       " 'Like Water for Chocolate',\n",
       " 'Piñata',\n",
       " 'Blood on the Tracks',\n",
       " 'Revolver',\n",
       " 'Appetite for Destruction',\n",
       " '1989',\n",
       " \"(What's the Story) Morning Glory?\"]"
      ]
     },
     "execution_count": 11,
     "metadata": {},
     "output_type": "execute_result"
    }
   ],
   "source": [
    "album_reviews = []\n",
    "\n",
    "for album in album_list:\n",
    "    album_reviews.append(album.replace('Album Review','').strip())\n",
    "\n",
    "album_reviews"
   ]
  },
  {
   "cell_type": "markdown",
   "metadata": {},
   "source": [
    "### Find Genre:"
   ]
  },
  {
   "cell_type": "code",
   "execution_count": 12,
   "metadata": {},
   "outputs": [
    {
     "data": {
      "text/plain": [
       "['Electronic',\n",
       " 'Pop/R&B',\n",
       " 'Electronic',\n",
       " 'Rap',\n",
       " 'Rap',\n",
       " 'Rap',\n",
       " 'Rock',\n",
       " 'Rock',\n",
       " 'Rock',\n",
       " 'Pop/R&B',\n",
       " 'Rock']"
      ]
     },
     "execution_count": 12,
     "metadata": {},
     "output_type": "execute_result"
    }
   ],
   "source": [
    "# Find the genres in the reviews\n",
    "genre_list = []\n",
    "\n",
    "for lc in link_contents:\n",
    "    try:\n",
    "        genre_list.append(lc.find(class_='genre-list__item').text)\n",
    "    except:\n",
    "        genre_list.append('No genre')\n",
    "                      \n",
    "genre_list"
   ]
  },
  {
   "cell_type": "markdown",
   "metadata": {},
   "source": [
    "### Find the content in each review:"
   ]
  },
  {
   "cell_type": "code",
   "execution_count": 13,
   "metadata": {},
   "outputs": [],
   "source": [
    "contents_list = []\n",
    "\n",
    "for lc in link_contents:\n",
    "    try:\n",
    "        contents_list.append(re.sub(r'Back to home', '', \\\n",
    "                                    (re.sub(r'\\s', ' ', lc.find(class_='review-detail__article-content').text))))\n",
    "    except:\n",
    "        contents_list.append(\"No review\")\n",
    "        \n",
    "# contents_list"
   ]
  },
  {
   "cell_type": "code",
   "execution_count": 14,
   "metadata": {},
   "outputs": [
    {
     "data": {
      "text/html": [
       "<div>\n",
       "<style scoped>\n",
       "    .dataframe tbody tr th:only-of-type {\n",
       "        vertical-align: middle;\n",
       "    }\n",
       "\n",
       "    .dataframe tbody tr th {\n",
       "        vertical-align: top;\n",
       "    }\n",
       "\n",
       "    .dataframe thead th {\n",
       "        text-align: right;\n",
       "    }\n",
       "</style>\n",
       "<table border=\"1\" class=\"dataframe\">\n",
       "  <thead>\n",
       "    <tr style=\"text-align: right;\">\n",
       "      <th></th>\n",
       "      <th>Author</th>\n",
       "      <th>Artist</th>\n",
       "      <th>Album_Name</th>\n",
       "      <th>Genre</th>\n",
       "      <th>Score</th>\n",
       "      <th>Contents</th>\n",
       "    </tr>\n",
       "  </thead>\n",
       "  <tbody>\n",
       "    <tr>\n",
       "      <th>0</th>\n",
       "      <td>Ian Cohen</td>\n",
       "      <td>Crystal Castles</td>\n",
       "      <td>Crystal Castles</td>\n",
       "      <td>Electronic</td>\n",
       "      <td>8.5</td>\n",
       "      <td>Crystal Castles return with a second self-titl...</td>\n",
       "    </tr>\n",
       "    <tr>\n",
       "      <th>1</th>\n",
       "      <td>Lindsay Zoladz</td>\n",
       "      <td>Lana Del Rey</td>\n",
       "      <td>Born to Die</td>\n",
       "      <td>Pop/R&amp;B</td>\n",
       "      <td>5.5</td>\n",
       "      <td>After last year's hit \"Video Games\" and the en...</td>\n",
       "    </tr>\n",
       "    <tr>\n",
       "      <th>2</th>\n",
       "      <td>Larry Fitzmaurice</td>\n",
       "      <td>Disclosure</td>\n",
       "      <td>Settle</td>\n",
       "      <td>Electronic</td>\n",
       "      <td>9.1</td>\n",
       "      <td>Disclosure's debut is not only 2013's best dan...</td>\n",
       "    </tr>\n",
       "    <tr>\n",
       "      <th>3</th>\n",
       "      <td>Jeff Weiss</td>\n",
       "      <td>Chance the Rapper</td>\n",
       "      <td>Acid Rap</td>\n",
       "      <td>Rap</td>\n",
       "      <td>8.4</td>\n",
       "      <td>Barely out of his teens, Chancelor Bennett has...</td>\n",
       "    </tr>\n",
       "    <tr>\n",
       "      <th>4</th>\n",
       "      <td>Taylor M. Clark</td>\n",
       "      <td>Common</td>\n",
       "      <td>Like Water for Chocolate</td>\n",
       "      <td>Rap</td>\n",
       "      <td>8.7</td>\n",
       "      <td>Man, about five years ago I was so damn white....</td>\n",
       "    </tr>\n",
       "    <tr>\n",
       "      <th>5</th>\n",
       "      <td>Nate Patrin</td>\n",
       "      <td>Madlib / Freddie Gibbs</td>\n",
       "      <td>Piñata</td>\n",
       "      <td>Rap</td>\n",
       "      <td>8.0</td>\n",
       "      <td>The appreciation of Madlib and Freddie Gibbs' ...</td>\n",
       "    </tr>\n",
       "    <tr>\n",
       "      <th>6</th>\n",
       "      <td>Jesse Jarnow</td>\n",
       "      <td>Bob Dylan</td>\n",
       "      <td>Blood on the Tracks</td>\n",
       "      <td>Rock</td>\n",
       "      <td>10</td>\n",
       "      <td>Bob Dylan’s moody 1975 epic is often referred ...</td>\n",
       "    </tr>\n",
       "    <tr>\n",
       "      <th>7</th>\n",
       "      <td>Scott Plagenhoef</td>\n",
       "      <td>The Beatles</td>\n",
       "      <td>Revolver</td>\n",
       "      <td>Rock</td>\n",
       "      <td>10</td>\n",
       "      <td>As they devoted more time to the studio, the B...</td>\n",
       "    </tr>\n",
       "    <tr>\n",
       "      <th>8</th>\n",
       "      <td>Maura Johnston</td>\n",
       "      <td>Guns N' Roses</td>\n",
       "      <td>Appetite for Destruction</td>\n",
       "      <td>Rock</td>\n",
       "      <td>10</td>\n",
       "      <td>The debut from Guns N' Roses was a watershed m...</td>\n",
       "    </tr>\n",
       "    <tr>\n",
       "      <th>9</th>\n",
       "      <td>Vrinda Jagota</td>\n",
       "      <td>Taylor Swift</td>\n",
       "      <td>1989</td>\n",
       "      <td>Pop/R&amp;B</td>\n",
       "      <td>7.7</td>\n",
       "      <td>Today on Pitchfork, we are taking a critical l...</td>\n",
       "    </tr>\n",
       "    <tr>\n",
       "      <th>10</th>\n",
       "      <td>Stuart Berman</td>\n",
       "      <td>Oasis</td>\n",
       "      <td>(What's the Story) Morning Glory?</td>\n",
       "      <td>Rock</td>\n",
       "      <td>8.9</td>\n",
       "      <td>(What’s the Story) Morning Glory? is Oasis' ab...</td>\n",
       "    </tr>\n",
       "  </tbody>\n",
       "</table>\n",
       "</div>"
      ],
      "text/plain": [
       "               Author                  Artist  \\\n",
       "0           Ian Cohen         Crystal Castles   \n",
       "1      Lindsay Zoladz            Lana Del Rey   \n",
       "2   Larry Fitzmaurice              Disclosure   \n",
       "3          Jeff Weiss       Chance the Rapper   \n",
       "4     Taylor M. Clark                  Common   \n",
       "5         Nate Patrin  Madlib / Freddie Gibbs   \n",
       "6        Jesse Jarnow               Bob Dylan   \n",
       "7    Scott Plagenhoef             The Beatles   \n",
       "8      Maura Johnston           Guns N' Roses   \n",
       "9       Vrinda Jagota            Taylor Swift   \n",
       "10      Stuart Berman                   Oasis   \n",
       "\n",
       "                           Album_Name       Genre Score  \\\n",
       "0                     Crystal Castles  Electronic   8.5   \n",
       "1                         Born to Die     Pop/R&B   5.5   \n",
       "2                              Settle  Electronic   9.1   \n",
       "3                            Acid Rap         Rap   8.4   \n",
       "4            Like Water for Chocolate         Rap   8.7   \n",
       "5                              Piñata         Rap   8.0   \n",
       "6                 Blood on the Tracks        Rock    10   \n",
       "7                            Revolver        Rock    10   \n",
       "8            Appetite for Destruction        Rock    10   \n",
       "9                                1989     Pop/R&B   7.7   \n",
       "10  (What's the Story) Morning Glory?        Rock   8.9   \n",
       "\n",
       "                                             Contents  \n",
       "0   Crystal Castles return with a second self-titl...  \n",
       "1   After last year's hit \"Video Games\" and the en...  \n",
       "2   Disclosure's debut is not only 2013's best dan...  \n",
       "3   Barely out of his teens, Chancelor Bennett has...  \n",
       "4   Man, about five years ago I was so damn white....  \n",
       "5   The appreciation of Madlib and Freddie Gibbs' ...  \n",
       "6   Bob Dylan’s moody 1975 epic is often referred ...  \n",
       "7   As they devoted more time to the studio, the B...  \n",
       "8   The debut from Guns N' Roses was a watershed m...  \n",
       "9   Today on Pitchfork, we are taking a critical l...  \n",
       "10  (What’s the Story) Morning Glory? is Oasis' ab...  "
      ]
     },
     "execution_count": 14,
     "metadata": {},
     "output_type": "execute_result"
    }
   ],
   "source": [
    "album_reviews_test = pd.DataFrame\\\n",
    "(list(zip(author_list, artist_list, album_reviews, genre_list, review_score, contents_list)), \n",
    "               columns =['Author', 'Artist', 'Album_Name', 'Genre', 'Score','Contents']) \n",
    "\n",
    "album_reviews_test"
   ]
  },
  {
   "cell_type": "markdown",
   "metadata": {},
   "source": [
    "### Preprocessing"
   ]
  },
  {
   "cell_type": "code",
   "execution_count": 15,
   "metadata": {},
   "outputs": [],
   "source": [
    "import re\n",
    "import string"
   ]
  },
  {
   "cell_type": "code",
   "execution_count": 16,
   "metadata": {},
   "outputs": [],
   "source": [
    "from sklearn.feature_extraction.text import CountVectorizer\n",
    "from nltk.tokenize import TreebankWordTokenizer\n",
    "from nltk.stem import PorterStemmer\n",
    "from nltk.stem.snowball import SnowballStemmer\n",
    "from nltk.tokenize import word_tokenize\n",
    "from nltk.tokenize import sent_tokenize\n",
    "from nltk.tokenize import TreebankWordTokenizer\n",
    "from nltk.tokenize import RegexpTokenizer\n",
    "from nltk.util import ngrams\n",
    "from nltk.corpus import stopwords"
   ]
  },
  {
   "cell_type": "code",
   "execution_count": 17,
   "metadata": {},
   "outputs": [
    {
     "name": "stderr",
     "output_type": "stream",
     "text": [
      "[nltk_data] Downloading package punkt to /home/jcnachman/nltk_data...\n",
      "[nltk_data]   Package punkt is already up-to-date!\n"
     ]
    },
    {
     "data": {
      "text/plain": [
       "True"
      ]
     },
     "execution_count": 17,
     "metadata": {},
     "output_type": "execute_result"
    }
   ],
   "source": [
    "import nltk\n",
    "nltk.download('punkt')"
   ]
  },
  {
   "cell_type": "code",
   "execution_count": 18,
   "metadata": {},
   "outputs": [
    {
     "name": "stderr",
     "output_type": "stream",
     "text": [
      "[nltk_data] Downloading package stopwords to\n",
      "[nltk_data]     /home/jcnachman/nltk_data...\n",
      "[nltk_data]   Package stopwords is already up-to-date!\n"
     ]
    },
    {
     "data": {
      "text/plain": [
       "True"
      ]
     },
     "execution_count": 18,
     "metadata": {},
     "output_type": "execute_result"
    }
   ],
   "source": [
    "import nltk\n",
    "nltk.download('stopwords')"
   ]
  },
  {
   "cell_type": "code",
   "execution_count": 19,
   "metadata": {},
   "outputs": [],
   "source": [
    "# Text preprocessing steps \n",
    "# remove numbers, capital letters and punctuation\n",
    "alphanumeric = lambda x: re.sub('\\w*\\d\\w*', ' ', x) #remove numbers\n",
    "punc_lower = lambda x: re.sub('[%s]' % re.escape(string.punctuation), ' ', x.lower()) # can i put & back in?\n",
    "# punc_lower = lambda x: re.sub('[%s]' % re.escape(string.punctuation), ' ') # can i put & back in?\n",
    "\n",
    "# # Replacing words\n",
    "each_sunday = lambda x: x.replace('each sunday  pitchfork takes an in depth look at a significant album from the past  and any record not in our archives is eligible','')\n",
    "today_pitch = lambda x: x.replace('today on pitchfork  we are taking a critical look at','')\n",
    "today_revisit = lambda x: x.replace('today we revisit','')\n",
    "today_revisit2 = lambda x: x.replace('today  we revisit','')\n",
    "today_todayon = lambda x: x.replace('today on pitchfork  we are publishing new reviews of five important early stereolab records  each one a rung on the ladder of one of the most exceptional and historically influential bands','')\n",
    "\n",
    "sub_gogos = lambda x: x.replace('go gos', 'go_go')\n",
    "sub_gogo = lambda x: x.replace('go go', 'go_go')\n",
    "sub_dre = lambda x: x.replace('dres', 'dre')\n",
    "sub_rap = lambda x: x.replace('raps', 'rap')\n",
    "sub_rapper = lambda x: x.replace('rappers', 'rapper')\n",
    "sub_hiphop = lambda x: x.replace('hip hop', 'hiphop')\n",
    "sub_songwriting = lambda x: x.replace('song writing', 'song writing')\n",
    "sub_rems = lambda x: x.replace('r e m s', 'rem')\n",
    "sub_rem = lambda x: x.replace('r e m', 'rem')\n",
    "sub_danfrom = lambda x: x.replace('danfrom', 'dan from')\n",
    "sub_kdlangs = lambda x: x.replace('k d langs', 'kdlang')\n",
    "sub_kdlang = lambda x: x.replace('k d lang', 'kdlang')\n",
    "sub_lofi = lambda x: x.replace('lo fi', 'lofi')\n",
    "sub_las = lambda x: x.replace('l a s', 'los_angeles')\n",
    "sub_la = lambda x: x.replace('l a', 'los_angeles')\n",
    "sub_losang = lambda x: x.replace('los angeles', 'los_angeles')\n",
    "sub_dc = lambda x: x.replace('washington d c', 'washington_dc')\n",
    "sub_gogos = lambda x: x.replace('leader s', 'leaders')\n",
    "sub_rb = lambda x: re.sub('r b','r&b', x)\n",
    "sub_rbs = lambda x: re.sub('r bs','r&b', x)\n",
    "sub_kpop = lambda x: x.replace('k pop','kpop')\n",
    "sub_tswift = lambda x: x.replace('swiftfrom','swift from')\n",
    "new_york = lambda x: x.replace('new york', 'new_york')\n",
    "max_b = lambda x: x.replace('max b', 'max_b')\n",
    "jim_jones = lambda x: x.replace('jim jones', 'jim_jones')\n",
    "nwa = lambda x: x.replace('n w a', 'nwa')\n",
    "u_s_a = lambda x: x.replace('the united states', 'the_united_states')\n",
    "u_k = lambda x: x.replace('u k', 'uk')\n",
    "up_and_comers = lambda x: x.replace('up and comers', 'up_and_comers')\n",
    "in_depth = lambda x: x.replace('in depth', 'in-depth')\n",
    "sub_band = lambda x: x.replace('bands', 'band')\n",
    "sub_album = lambda x: x.replace('albums', 'album')\n",
    "sub_song = lambda x: x.replace('songs', 'song')\n",
    "rom_com = lambda x: x.replace('rom com', 'rom-com')\n",
    "long_shot = lambda x: x.replace('long shot', 'long-shot')\n",
    "in_memory_of = lambda x: x.replace('in memory of', 'in-memory-of')\n",
    "dmsr = lambda x: x.replace('d m s r','dmsr')\n",
    "machinehey = lambda x: x.replace('machinehey','machine hey')\n",
    "notoriousb = lambda x: x.replace('notorious b i g','notorious big')\n",
    "notoriousbig = lambda x: x.replace('notorious b i g s','notorious big')\n",
    "krit = lambda x: x.replace('k r i t','krit')\n",
    "mafia = lambda x: x.replace('m a f i a','mafia')"
   ]
  },
  {
   "cell_type": "code",
   "execution_count": 20,
   "metadata": {},
   "outputs": [],
   "source": [
    "# Dealing with 'Contents' column\n",
    "album_reviews_test['Contents'] = album_reviews_test.Contents.map(alphanumeric).map(punc_lower).map(each_sunday).map(sub_gogo).map(sub_gogos).map(sub_dre).map(sub_rap).map(sub_rapper).map(sub_hiphop).map(sub_songwriting).map(today_pitch).map(today_revisit).map(today_revisit2).map(today_todayon).map(sub_rems).map(sub_rem).map(sub_danfrom).map(sub_kdlangs).map(sub_kdlang).map(sub_lofi).map(sub_las).map(sub_la).map(sub_dc).map(sub_gogos).map(sub_rb).map(sub_rbs).map(sub_kpop).map(sub_tswift).map(new_york).map(max_b).map(jim_jones).map(nwa).map(u_s_a).map(u_k).map(up_and_comers).map(in_depth).map(sub_band).map(sub_album).map(sub_song).map(rom_com).map(long_shot).map(in_memory_of).map(dmsr).map(machinehey).map(notoriousb).map(notoriousbig).map(krit).map(mafia).map(sub_losang)\n"
   ]
  },
  {
   "cell_type": "markdown",
   "metadata": {},
   "source": [
    "## Pickle this:"
   ]
  },
  {
   "cell_type": "code",
   "execution_count": 21,
   "metadata": {},
   "outputs": [],
   "source": [
    "import pickle"
   ]
  },
  {
   "cell_type": "code",
   "execution_count": 22,
   "metadata": {},
   "outputs": [],
   "source": [
    "album_reviews_test.to_pickle(\"./fave_reviews_test.pkl\")"
   ]
  },
  {
   "cell_type": "markdown",
   "metadata": {},
   "source": [
    "##  Depickling:\n"
   ]
  },
  {
   "cell_type": "code",
   "execution_count": 23,
   "metadata": {},
   "outputs": [
    {
     "data": {
      "text/html": [
       "<div>\n",
       "<style scoped>\n",
       "    .dataframe tbody tr th:only-of-type {\n",
       "        vertical-align: middle;\n",
       "    }\n",
       "\n",
       "    .dataframe tbody tr th {\n",
       "        vertical-align: top;\n",
       "    }\n",
       "\n",
       "    .dataframe thead th {\n",
       "        text-align: right;\n",
       "    }\n",
       "</style>\n",
       "<table border=\"1\" class=\"dataframe\">\n",
       "  <thead>\n",
       "    <tr style=\"text-align: right;\">\n",
       "      <th></th>\n",
       "      <th>Author</th>\n",
       "      <th>Artist</th>\n",
       "      <th>Album_Name</th>\n",
       "      <th>Genre</th>\n",
       "      <th>Score</th>\n",
       "      <th>Contents</th>\n",
       "    </tr>\n",
       "  </thead>\n",
       "  <tbody>\n",
       "    <tr>\n",
       "      <th>0</th>\n",
       "      <td>Ian Cohen</td>\n",
       "      <td>Crystal Castles</td>\n",
       "      <td>Crystal Castles</td>\n",
       "      <td>Electronic</td>\n",
       "      <td>8.5</td>\n",
       "      <td>crystal castles return with a second self titl...</td>\n",
       "    </tr>\n",
       "    <tr>\n",
       "      <th>1</th>\n",
       "      <td>Lindsay Zoladz</td>\n",
       "      <td>Lana Del Rey</td>\n",
       "      <td>Born to Die</td>\n",
       "      <td>Pop/R&amp;B</td>\n",
       "      <td>5.5</td>\n",
       "      <td>after last year s hit  video games  and the en...</td>\n",
       "    </tr>\n",
       "    <tr>\n",
       "      <th>2</th>\n",
       "      <td>Larry Fitzmaurice</td>\n",
       "      <td>Disclosure</td>\n",
       "      <td>Settle</td>\n",
       "      <td>Electronic</td>\n",
       "      <td>9.1</td>\n",
       "      <td>disclosure s debut is not only   s best dance ...</td>\n",
       "    </tr>\n",
       "    <tr>\n",
       "      <th>3</th>\n",
       "      <td>Jeff Weiss</td>\n",
       "      <td>Chance the Rapper</td>\n",
       "      <td>Acid Rap</td>\n",
       "      <td>Rap</td>\n",
       "      <td>8.4</td>\n",
       "      <td>barely out of his teens  chancelor&amp;bennett has...</td>\n",
       "    </tr>\n",
       "    <tr>\n",
       "      <th>4</th>\n",
       "      <td>Taylor M. Clark</td>\n",
       "      <td>Common</td>\n",
       "      <td>Like Water for Chocolate</td>\n",
       "      <td>Rap</td>\n",
       "      <td>8.7</td>\n",
       "      <td>man  about five years ago i was so damn white ...</td>\n",
       "    </tr>\n",
       "    <tr>\n",
       "      <th>5</th>\n",
       "      <td>Nate Patrin</td>\n",
       "      <td>Madlib / Freddie Gibbs</td>\n",
       "      <td>Piñata</td>\n",
       "      <td>Rap</td>\n",
       "      <td>8.0</td>\n",
       "      <td>the appreciation of madlib and freddie gibbs  ...</td>\n",
       "    </tr>\n",
       "    <tr>\n",
       "      <th>6</th>\n",
       "      <td>Jesse Jarnow</td>\n",
       "      <td>Bob Dylan</td>\n",
       "      <td>Blood on the Tracks</td>\n",
       "      <td>Rock</td>\n",
       "      <td>10</td>\n",
       "      <td>bob dylan’s moody   epic is often referred to ...</td>\n",
       "    </tr>\n",
       "    <tr>\n",
       "      <th>7</th>\n",
       "      <td>Scott Plagenhoef</td>\n",
       "      <td>The Beatles</td>\n",
       "      <td>Revolver</td>\n",
       "      <td>Rock</td>\n",
       "      <td>10</td>\n",
       "      <td>as they devoted more time to the studio  the b...</td>\n",
       "    </tr>\n",
       "    <tr>\n",
       "      <th>8</th>\n",
       "      <td>Maura Johnston</td>\n",
       "      <td>Guns N' Roses</td>\n",
       "      <td>Appetite for Destruction</td>\n",
       "      <td>Rock</td>\n",
       "      <td>10</td>\n",
       "      <td>the debut from guns n  roses was a watershed m...</td>\n",
       "    </tr>\n",
       "    <tr>\n",
       "      <th>9</th>\n",
       "      <td>Vrinda Jagota</td>\n",
       "      <td>Taylor Swift</td>\n",
       "      <td>1989</td>\n",
       "      <td>Pop/R&amp;B</td>\n",
       "      <td>7.7</td>\n",
       "      <td>the rise of taylor swift—from country underdo...</td>\n",
       "    </tr>\n",
       "    <tr>\n",
       "      <th>10</th>\n",
       "      <td>Stuart Berman</td>\n",
       "      <td>Oasis</td>\n",
       "      <td>(What's the Story) Morning Glory?</td>\n",
       "      <td>Rock</td>\n",
       "      <td>8.9</td>\n",
       "      <td>what’s the story  morning glory  is oasis  ab...</td>\n",
       "    </tr>\n",
       "  </tbody>\n",
       "</table>\n",
       "</div>"
      ],
      "text/plain": [
       "               Author                  Artist  \\\n",
       "0           Ian Cohen         Crystal Castles   \n",
       "1      Lindsay Zoladz            Lana Del Rey   \n",
       "2   Larry Fitzmaurice              Disclosure   \n",
       "3          Jeff Weiss       Chance the Rapper   \n",
       "4     Taylor M. Clark                  Common   \n",
       "5         Nate Patrin  Madlib / Freddie Gibbs   \n",
       "6        Jesse Jarnow               Bob Dylan   \n",
       "7    Scott Plagenhoef             The Beatles   \n",
       "8      Maura Johnston           Guns N' Roses   \n",
       "9       Vrinda Jagota            Taylor Swift   \n",
       "10      Stuart Berman                   Oasis   \n",
       "\n",
       "                           Album_Name       Genre Score  \\\n",
       "0                     Crystal Castles  Electronic   8.5   \n",
       "1                         Born to Die     Pop/R&B   5.5   \n",
       "2                              Settle  Electronic   9.1   \n",
       "3                            Acid Rap         Rap   8.4   \n",
       "4            Like Water for Chocolate         Rap   8.7   \n",
       "5                              Piñata         Rap   8.0   \n",
       "6                 Blood on the Tracks        Rock    10   \n",
       "7                            Revolver        Rock    10   \n",
       "8            Appetite for Destruction        Rock    10   \n",
       "9                                1989     Pop/R&B   7.7   \n",
       "10  (What's the Story) Morning Glory?        Rock   8.9   \n",
       "\n",
       "                                             Contents  \n",
       "0   crystal castles return with a second self titl...  \n",
       "1   after last year s hit  video games  and the en...  \n",
       "2   disclosure s debut is not only   s best dance ...  \n",
       "3   barely out of his teens  chancelor&bennett has...  \n",
       "4   man  about five years ago i was so damn white ...  \n",
       "5   the appreciation of madlib and freddie gibbs  ...  \n",
       "6   bob dylan’s moody   epic is often referred to ...  \n",
       "7   as they devoted more time to the studio  the b...  \n",
       "8   the debut from guns n  roses was a watershed m...  \n",
       "9    the rise of taylor swift—from country underdo...  \n",
       "10   what’s the story  morning glory  is oasis  ab...  "
      ]
     },
     "execution_count": 23,
     "metadata": {},
     "output_type": "execute_result"
    }
   ],
   "source": [
    "fave_test = pd.read_pickle(\"./fave_reviews_test.pkl\")\n",
    "fave_test"
   ]
  }
 ],
 "metadata": {
  "kernelspec": {
   "display_name": "Python [conda env:metis] *",
   "language": "python",
   "name": "conda-env-metis-py"
  },
  "language_info": {
   "codemirror_mode": {
    "name": "ipython",
    "version": 3
   },
   "file_extension": ".py",
   "mimetype": "text/x-python",
   "name": "python",
   "nbconvert_exporter": "python",
   "pygments_lexer": "ipython3",
   "version": "3.7.4"
  },
  "toc": {
   "base_numbering": 1,
   "nav_menu": {},
   "number_sections": true,
   "sideBar": true,
   "skip_h1_title": false,
   "title_cell": "Table of Contents",
   "title_sidebar": "Contents",
   "toc_cell": false,
   "toc_position": {},
   "toc_section_display": true,
   "toc_window_display": false
  },
  "varInspector": {
   "cols": {
    "lenName": 16,
    "lenType": 16,
    "lenVar": 40
   },
   "kernels_config": {
    "python": {
     "delete_cmd_postfix": "",
     "delete_cmd_prefix": "del ",
     "library": "var_list.py",
     "varRefreshCmd": "print(var_dic_list())"
    },
    "r": {
     "delete_cmd_postfix": ") ",
     "delete_cmd_prefix": "rm(",
     "library": "var_list.r",
     "varRefreshCmd": "cat(var_dic_list()) "
    }
   },
   "types_to_exclude": [
    "module",
    "function",
    "builtin_function_or_method",
    "instance",
    "_Feature"
   ],
   "window_display": false
  }
 },
 "nbformat": 4,
 "nbformat_minor": 2
}
