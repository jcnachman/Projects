{
 "cells": [
  {
   "cell_type": "markdown",
   "metadata": {},
   "source": [
    "## Aim: combine my work with solution"
   ]
  },
  {
   "cell_type": "markdown",
   "metadata": {},
   "source": [
    "There are some parts of the Benson Solutions I like, and some parts where I like my approach better. I'm going to attempt to blend the two here"
   ]
  },
  {
   "cell_type": "code",
   "execution_count": 1,
   "metadata": {},
   "outputs": [],
   "source": [
    "import pandas as pd\n",
    "import numpy as np\n",
    "%matplotlib inline\n",
    "import matplotlib.pyplot as plt\n",
    "import matplotlib.dates as mdates\n",
    "\n",
    "\n",
    "import sys\n",
    "sys.path.append('./code')\n",
    "import get_mta_data as gmd\n",
    "import process_mta_data as pmd\n",
    "\n",
    "# import datetime\n",
    "from datetime import datetime as dt"
   ]
  },
  {
   "cell_type": "code",
   "execution_count": null,
   "metadata": {},
   "outputs": [],
   "source": []
  },
  {
   "cell_type": "markdown",
   "metadata": {},
   "source": [
    "## import data"
   ]
  },
  {
   "cell_type": "code",
   "execution_count": 2,
   "metadata": {
    "pycharm": {
     "name": "#%%\n"
    }
   },
   "outputs": [],
   "source": [
    "mta = gmd.load_local_data([2019], [4])"
   ]
  },
  {
   "cell_type": "markdown",
   "metadata": {},
   "source": [
    "## Tidy up data"
   ]
  },
  {
   "cell_type": "markdown",
   "metadata": {},
   "source": [
    "The functions that are becoming standard for us."
   ]
  },
  {
   "cell_type": "code",
   "execution_count": 3,
   "metadata": {
    "pycharm": {
     "name": "#%%\n"
    }
   },
   "outputs": [],
   "source": [
    "mta = pmd.clean_col_names(mta)"
   ]
  },
  {
   "cell_type": "code",
   "execution_count": 4,
   "metadata": {
    "pycharm": {
     "name": "#%%\n"
    }
   },
   "outputs": [],
   "source": [
    "mta = pmd.add_datetime(mta)"
   ]
  },
  {
   "cell_type": "code",
   "execution_count": 5,
   "metadata": {
    "pycharm": {
     "name": "#%%\n"
    }
   },
   "outputs": [],
   "source": [
    "mta = pmd.convert_date_to_datetime(mta)\n",
    "\n"
   ]
  },
  {
   "cell_type": "code",
   "execution_count": 6,
   "metadata": {},
   "outputs": [
    {
     "data": {
      "text/html": [
       "<div>\n",
       "<style scoped>\n",
       "    .dataframe tbody tr th:only-of-type {\n",
       "        vertical-align: middle;\n",
       "    }\n",
       "\n",
       "    .dataframe tbody tr th {\n",
       "        vertical-align: top;\n",
       "    }\n",
       "\n",
       "    .dataframe thead th {\n",
       "        text-align: right;\n",
       "    }\n",
       "</style>\n",
       "<table border=\"1\" class=\"dataframe\">\n",
       "  <thead>\n",
       "    <tr style=\"text-align: right;\">\n",
       "      <th></th>\n",
       "      <th>CA</th>\n",
       "      <th>UNIT</th>\n",
       "      <th>SCP</th>\n",
       "      <th>STATION</th>\n",
       "      <th>LINENAME</th>\n",
       "      <th>DIVISION</th>\n",
       "      <th>DATE</th>\n",
       "      <th>TIME</th>\n",
       "      <th>DESC</th>\n",
       "      <th>ENTRIES</th>\n",
       "      <th>EXITS</th>\n",
       "      <th>DATETIME</th>\n",
       "    </tr>\n",
       "  </thead>\n",
       "  <tbody>\n",
       "    <tr>\n",
       "      <th>0</th>\n",
       "      <td>A002</td>\n",
       "      <td>R051</td>\n",
       "      <td>02-00-00</td>\n",
       "      <td>59 ST</td>\n",
       "      <td>NQR456W</td>\n",
       "      <td>BMT</td>\n",
       "      <td>2019-03-30</td>\n",
       "      <td>00:00:00</td>\n",
       "      <td>REGULAR</td>\n",
       "      <td>6999064</td>\n",
       "      <td>2373568</td>\n",
       "      <td>2019-03-30 00:00:00</td>\n",
       "    </tr>\n",
       "    <tr>\n",
       "      <th>1</th>\n",
       "      <td>A002</td>\n",
       "      <td>R051</td>\n",
       "      <td>02-00-00</td>\n",
       "      <td>59 ST</td>\n",
       "      <td>NQR456W</td>\n",
       "      <td>BMT</td>\n",
       "      <td>2019-03-30</td>\n",
       "      <td>04:00:00</td>\n",
       "      <td>REGULAR</td>\n",
       "      <td>6999084</td>\n",
       "      <td>2373576</td>\n",
       "      <td>2019-03-30 04:00:00</td>\n",
       "    </tr>\n",
       "    <tr>\n",
       "      <th>2</th>\n",
       "      <td>A002</td>\n",
       "      <td>R051</td>\n",
       "      <td>02-00-00</td>\n",
       "      <td>59 ST</td>\n",
       "      <td>NQR456W</td>\n",
       "      <td>BMT</td>\n",
       "      <td>2019-03-30</td>\n",
       "      <td>08:00:00</td>\n",
       "      <td>REGULAR</td>\n",
       "      <td>6999107</td>\n",
       "      <td>2373622</td>\n",
       "      <td>2019-03-30 08:00:00</td>\n",
       "    </tr>\n",
       "    <tr>\n",
       "      <th>3</th>\n",
       "      <td>A002</td>\n",
       "      <td>R051</td>\n",
       "      <td>02-00-00</td>\n",
       "      <td>59 ST</td>\n",
       "      <td>NQR456W</td>\n",
       "      <td>BMT</td>\n",
       "      <td>2019-03-30</td>\n",
       "      <td>12:00:00</td>\n",
       "      <td>REGULAR</td>\n",
       "      <td>6999214</td>\n",
       "      <td>2373710</td>\n",
       "      <td>2019-03-30 12:00:00</td>\n",
       "    </tr>\n",
       "    <tr>\n",
       "      <th>4</th>\n",
       "      <td>A002</td>\n",
       "      <td>R051</td>\n",
       "      <td>02-00-00</td>\n",
       "      <td>59 ST</td>\n",
       "      <td>NQR456W</td>\n",
       "      <td>BMT</td>\n",
       "      <td>2019-03-30</td>\n",
       "      <td>16:00:00</td>\n",
       "      <td>REGULAR</td>\n",
       "      <td>6999451</td>\n",
       "      <td>2373781</td>\n",
       "      <td>2019-03-30 16:00:00</td>\n",
       "    </tr>\n",
       "    <tr>\n",
       "      <th>...</th>\n",
       "      <td>...</td>\n",
       "      <td>...</td>\n",
       "      <td>...</td>\n",
       "      <td>...</td>\n",
       "      <td>...</td>\n",
       "      <td>...</td>\n",
       "      <td>...</td>\n",
       "      <td>...</td>\n",
       "      <td>...</td>\n",
       "      <td>...</td>\n",
       "      <td>...</td>\n",
       "      <td>...</td>\n",
       "    </tr>\n",
       "    <tr>\n",
       "      <th>751231</th>\n",
       "      <td>R161B</td>\n",
       "      <td>R452</td>\n",
       "      <td>00-03-02</td>\n",
       "      <td>72 ST</td>\n",
       "      <td>123</td>\n",
       "      <td>IRT</td>\n",
       "      <td>2019-04-25</td>\n",
       "      <td>01:00:00</td>\n",
       "      <td>REGULAR</td>\n",
       "      <td>20605432</td>\n",
       "      <td>8466842</td>\n",
       "      <td>2019-04-25 01:00:00</td>\n",
       "    </tr>\n",
       "    <tr>\n",
       "      <th>751232</th>\n",
       "      <td>R161B</td>\n",
       "      <td>R452</td>\n",
       "      <td>00-03-02</td>\n",
       "      <td>72 ST</td>\n",
       "      <td>123</td>\n",
       "      <td>IRT</td>\n",
       "      <td>2019-04-25</td>\n",
       "      <td>05:00:00</td>\n",
       "      <td>REGULAR</td>\n",
       "      <td>20605443</td>\n",
       "      <td>8466850</td>\n",
       "      <td>2019-04-25 05:00:00</td>\n",
       "    </tr>\n",
       "    <tr>\n",
       "      <th>751233</th>\n",
       "      <td>R161B</td>\n",
       "      <td>R452</td>\n",
       "      <td>00-03-02</td>\n",
       "      <td>72 ST</td>\n",
       "      <td>123</td>\n",
       "      <td>IRT</td>\n",
       "      <td>2019-04-25</td>\n",
       "      <td>09:00:00</td>\n",
       "      <td>REGULAR</td>\n",
       "      <td>20606268</td>\n",
       "      <td>8467023</td>\n",
       "      <td>2019-04-25 09:00:00</td>\n",
       "    </tr>\n",
       "    <tr>\n",
       "      <th>751234</th>\n",
       "      <td>R161B</td>\n",
       "      <td>R452</td>\n",
       "      <td>00-03-02</td>\n",
       "      <td>72 ST</td>\n",
       "      <td>123</td>\n",
       "      <td>IRT</td>\n",
       "      <td>2019-04-25</td>\n",
       "      <td>13:00:00</td>\n",
       "      <td>REGULAR</td>\n",
       "      <td>20607206</td>\n",
       "      <td>8467308</td>\n",
       "      <td>2019-04-25 13:00:00</td>\n",
       "    </tr>\n",
       "    <tr>\n",
       "      <th>751235</th>\n",
       "      <td>R161B</td>\n",
       "      <td>R452</td>\n",
       "      <td>00-03-02</td>\n",
       "      <td>72 ST</td>\n",
       "      <td>123</td>\n",
       "      <td>IRT</td>\n",
       "      <td>2019-04-25</td>\n",
       "      <td>17:00:00</td>\n",
       "      <td>REGULAR</td>\n",
       "      <td>20608078</td>\n",
       "      <td>8467619</td>\n",
       "      <td>2019-04-25 17:00:00</td>\n",
       "    </tr>\n",
       "  </tbody>\n",
       "</table>\n",
       "<p>751236 rows × 12 columns</p>\n",
       "</div>"
      ],
      "text/plain": [
       "           CA  UNIT       SCP STATION LINENAME DIVISION       DATE      TIME  \\\n",
       "0        A002  R051  02-00-00   59 ST  NQR456W      BMT 2019-03-30  00:00:00   \n",
       "1        A002  R051  02-00-00   59 ST  NQR456W      BMT 2019-03-30  04:00:00   \n",
       "2        A002  R051  02-00-00   59 ST  NQR456W      BMT 2019-03-30  08:00:00   \n",
       "3        A002  R051  02-00-00   59 ST  NQR456W      BMT 2019-03-30  12:00:00   \n",
       "4        A002  R051  02-00-00   59 ST  NQR456W      BMT 2019-03-30  16:00:00   \n",
       "...       ...   ...       ...     ...      ...      ...        ...       ...   \n",
       "751231  R161B  R452  00-03-02   72 ST      123      IRT 2019-04-25  01:00:00   \n",
       "751232  R161B  R452  00-03-02   72 ST      123      IRT 2019-04-25  05:00:00   \n",
       "751233  R161B  R452  00-03-02   72 ST      123      IRT 2019-04-25  09:00:00   \n",
       "751234  R161B  R452  00-03-02   72 ST      123      IRT 2019-04-25  13:00:00   \n",
       "751235  R161B  R452  00-03-02   72 ST      123      IRT 2019-04-25  17:00:00   \n",
       "\n",
       "           DESC   ENTRIES    EXITS            DATETIME  \n",
       "0       REGULAR   6999064  2373568 2019-03-30 00:00:00  \n",
       "1       REGULAR   6999084  2373576 2019-03-30 04:00:00  \n",
       "2       REGULAR   6999107  2373622 2019-03-30 08:00:00  \n",
       "3       REGULAR   6999214  2373710 2019-03-30 12:00:00  \n",
       "4       REGULAR   6999451  2373781 2019-03-30 16:00:00  \n",
       "...         ...       ...      ...                 ...  \n",
       "751231  REGULAR  20605432  8466842 2019-04-25 01:00:00  \n",
       "751232  REGULAR  20605443  8466850 2019-04-25 05:00:00  \n",
       "751233  REGULAR  20606268  8467023 2019-04-25 09:00:00  \n",
       "751234  REGULAR  20607206  8467308 2019-04-25 13:00:00  \n",
       "751235  REGULAR  20608078  8467619 2019-04-25 17:00:00  \n",
       "\n",
       "[751236 rows x 12 columns]"
      ]
     },
     "execution_count": 6,
     "metadata": {},
     "output_type": "execute_result"
    }
   ],
   "source": [
    "mta"
   ]
  },
  {
   "cell_type": "markdown",
   "metadata": {},
   "source": [
    "For convenience, add a 'turnstile_id' column"
   ]
  },
  {
   "cell_type": "code",
   "execution_count": 7,
   "metadata": {},
   "outputs": [],
   "source": [
    "mta['turnstile_id'] = mta.CA + mta.UNIT + mta.SCP"
   ]
  },
  {
   "cell_type": "markdown",
   "metadata": {},
   "source": [
    "Find and remove duplicate values"
   ]
  },
  {
   "cell_type": "code",
   "execution_count": 8,
   "metadata": {
    "pycharm": {
     "name": "#%%\n"
    }
   },
   "outputs": [
    {
     "data": {
      "text/plain": [
       "REGULAR       747615\n",
       "RECOVR AUD      3621\n",
       "Name: DESC, dtype: int64"
      ]
     },
     "execution_count": 8,
     "metadata": {},
     "output_type": "execute_result"
    }
   ],
   "source": [
    "mta.DESC.value_counts()"
   ]
  },
  {
   "cell_type": "markdown",
   "metadata": {},
   "source": [
    "There are 3621 rows with 'RECOVER AUD'. In Lara's presentation, these were shown to be be duplicates in at least some cases. We will remove them all."
   ]
  },
  {
   "cell_type": "code",
   "execution_count": 9,
   "metadata": {
    "pycharm": {
     "name": "#%%\n"
    }
   },
   "outputs": [
    {
     "data": {
      "text/plain": [
       "REGULAR    747615\n",
       "Name: DESC, dtype: int64"
      ]
     },
     "execution_count": 9,
     "metadata": {},
     "output_type": "execute_result"
    }
   ],
   "source": [
    "mta = mta[mta.DESC != 'RECOVR AUD']\n",
    "mta.DESC.value_counts()"
   ]
  },
  {
   "cell_type": "markdown",
   "metadata": {},
   "source": [
    "This confirms that the 'RECOVER AUD' entries have been removed"
   ]
  },
  {
   "cell_type": "markdown",
   "metadata": {},
   "source": [
    "Here's what the data looks like now:"
   ]
  },
  {
   "cell_type": "code",
   "execution_count": 10,
   "metadata": {
    "pycharm": {
     "name": "#%%\n"
    }
   },
   "outputs": [
    {
     "data": {
      "text/html": [
       "<div>\n",
       "<style scoped>\n",
       "    .dataframe tbody tr th:only-of-type {\n",
       "        vertical-align: middle;\n",
       "    }\n",
       "\n",
       "    .dataframe tbody tr th {\n",
       "        vertical-align: top;\n",
       "    }\n",
       "\n",
       "    .dataframe thead th {\n",
       "        text-align: right;\n",
       "    }\n",
       "</style>\n",
       "<table border=\"1\" class=\"dataframe\">\n",
       "  <thead>\n",
       "    <tr style=\"text-align: right;\">\n",
       "      <th></th>\n",
       "      <th>CA</th>\n",
       "      <th>UNIT</th>\n",
       "      <th>SCP</th>\n",
       "      <th>STATION</th>\n",
       "      <th>LINENAME</th>\n",
       "      <th>DIVISION</th>\n",
       "      <th>DATE</th>\n",
       "      <th>TIME</th>\n",
       "      <th>DESC</th>\n",
       "      <th>ENTRIES</th>\n",
       "      <th>EXITS</th>\n",
       "      <th>DATETIME</th>\n",
       "      <th>turnstile_id</th>\n",
       "    </tr>\n",
       "  </thead>\n",
       "  <tbody>\n",
       "    <tr>\n",
       "      <th>0</th>\n",
       "      <td>A002</td>\n",
       "      <td>R051</td>\n",
       "      <td>02-00-00</td>\n",
       "      <td>59 ST</td>\n",
       "      <td>NQR456W</td>\n",
       "      <td>BMT</td>\n",
       "      <td>2019-03-30</td>\n",
       "      <td>00:00:00</td>\n",
       "      <td>REGULAR</td>\n",
       "      <td>6999064</td>\n",
       "      <td>2373568</td>\n",
       "      <td>2019-03-30 00:00:00</td>\n",
       "      <td>A002R05102-00-00</td>\n",
       "    </tr>\n",
       "    <tr>\n",
       "      <th>1</th>\n",
       "      <td>A002</td>\n",
       "      <td>R051</td>\n",
       "      <td>02-00-00</td>\n",
       "      <td>59 ST</td>\n",
       "      <td>NQR456W</td>\n",
       "      <td>BMT</td>\n",
       "      <td>2019-03-30</td>\n",
       "      <td>04:00:00</td>\n",
       "      <td>REGULAR</td>\n",
       "      <td>6999084</td>\n",
       "      <td>2373576</td>\n",
       "      <td>2019-03-30 04:00:00</td>\n",
       "      <td>A002R05102-00-00</td>\n",
       "    </tr>\n",
       "    <tr>\n",
       "      <th>2</th>\n",
       "      <td>A002</td>\n",
       "      <td>R051</td>\n",
       "      <td>02-00-00</td>\n",
       "      <td>59 ST</td>\n",
       "      <td>NQR456W</td>\n",
       "      <td>BMT</td>\n",
       "      <td>2019-03-30</td>\n",
       "      <td>08:00:00</td>\n",
       "      <td>REGULAR</td>\n",
       "      <td>6999107</td>\n",
       "      <td>2373622</td>\n",
       "      <td>2019-03-30 08:00:00</td>\n",
       "      <td>A002R05102-00-00</td>\n",
       "    </tr>\n",
       "    <tr>\n",
       "      <th>3</th>\n",
       "      <td>A002</td>\n",
       "      <td>R051</td>\n",
       "      <td>02-00-00</td>\n",
       "      <td>59 ST</td>\n",
       "      <td>NQR456W</td>\n",
       "      <td>BMT</td>\n",
       "      <td>2019-03-30</td>\n",
       "      <td>12:00:00</td>\n",
       "      <td>REGULAR</td>\n",
       "      <td>6999214</td>\n",
       "      <td>2373710</td>\n",
       "      <td>2019-03-30 12:00:00</td>\n",
       "      <td>A002R05102-00-00</td>\n",
       "    </tr>\n",
       "    <tr>\n",
       "      <th>4</th>\n",
       "      <td>A002</td>\n",
       "      <td>R051</td>\n",
       "      <td>02-00-00</td>\n",
       "      <td>59 ST</td>\n",
       "      <td>NQR456W</td>\n",
       "      <td>BMT</td>\n",
       "      <td>2019-03-30</td>\n",
       "      <td>16:00:00</td>\n",
       "      <td>REGULAR</td>\n",
       "      <td>6999451</td>\n",
       "      <td>2373781</td>\n",
       "      <td>2019-03-30 16:00:00</td>\n",
       "      <td>A002R05102-00-00</td>\n",
       "    </tr>\n",
       "  </tbody>\n",
       "</table>\n",
       "</div>"
      ],
      "text/plain": [
       "     CA  UNIT       SCP STATION LINENAME DIVISION       DATE      TIME  \\\n",
       "0  A002  R051  02-00-00   59 ST  NQR456W      BMT 2019-03-30  00:00:00   \n",
       "1  A002  R051  02-00-00   59 ST  NQR456W      BMT 2019-03-30  04:00:00   \n",
       "2  A002  R051  02-00-00   59 ST  NQR456W      BMT 2019-03-30  08:00:00   \n",
       "3  A002  R051  02-00-00   59 ST  NQR456W      BMT 2019-03-30  12:00:00   \n",
       "4  A002  R051  02-00-00   59 ST  NQR456W      BMT 2019-03-30  16:00:00   \n",
       "\n",
       "      DESC  ENTRIES    EXITS            DATETIME      turnstile_id  \n",
       "0  REGULAR  6999064  2373568 2019-03-30 00:00:00  A002R05102-00-00  \n",
       "1  REGULAR  6999084  2373576 2019-03-30 04:00:00  A002R05102-00-00  \n",
       "2  REGULAR  6999107  2373622 2019-03-30 08:00:00  A002R05102-00-00  \n",
       "3  REGULAR  6999214  2373710 2019-03-30 12:00:00  A002R05102-00-00  \n",
       "4  REGULAR  6999451  2373781 2019-03-30 16:00:00  A002R05102-00-00  "
      ]
     },
     "execution_count": 10,
     "metadata": {},
     "output_type": "execute_result"
    }
   ],
   "source": [
    "mta.head()"
   ]
  },
  {
   "cell_type": "markdown",
   "metadata": {},
   "source": [
    "Let's check DATETIME for value counts"
   ]
  },
  {
   "cell_type": "code",
   "execution_count": 11,
   "metadata": {},
   "outputs": [
    {
     "data": {
      "text/plain": [
       "16:00:00    63450\n",
       "04:00:00    63418\n",
       "00:00:00    63394\n",
       "20:00:00    63370\n",
       "08:00:00    63331\n",
       "            ...  \n",
       "20:49:52        1\n",
       "15:50:02        1\n",
       "10:37:34        1\n",
       "05:17:17        1\n",
       "09:02:13        1\n",
       "Name: DATETIME, Length: 30247, dtype: int64"
      ]
     },
     "execution_count": 11,
     "metadata": {},
     "output_type": "execute_result"
    }
   ],
   "source": [
    "mta.DATETIME.dt.time.value_counts()"
   ]
  },
  {
   "cell_type": "markdown",
   "metadata": {},
   "source": [
    "This shows that there are some entries at odd times. There appear to be more at standardized times.  \n",
    "So, let's isolate those at 00:00:00 time"
   ]
  },
  {
   "cell_type": "code",
   "execution_count": 12,
   "metadata": {},
   "outputs": [
    {
     "data": {
      "text/plain": [
       "00:00:00    63394\n",
       "Name: DATETIME, dtype: int64"
      ]
     },
     "execution_count": 12,
     "metadata": {},
     "output_type": "execute_result"
    }
   ],
   "source": [
    "mask = mta['DATETIME'].dt.time == dt(2016, 1, 1, 0, 0, 0).time() # date is arbitrary, important part is time\n",
    "mta = mta[mask]\n",
    "mta.DATETIME.dt.time.value_counts()"
   ]
  },
  {
   "cell_type": "markdown",
   "metadata": {},
   "source": [
    "This confirms that all entries are now at midnight"
   ]
  },
  {
   "cell_type": "markdown",
   "metadata": {},
   "source": [
    "Now, check that \"CA\", \"UNIT\", \"SCP\", \"STATION\", \"DATETIME\" is unique\n"
   ]
  },
  {
   "cell_type": "code",
   "execution_count": 13,
   "metadata": {},
   "outputs": [
    {
     "data": {
      "text/plain": [
       "0        1\n",
       "42252    1\n",
       "42254    1\n",
       "42255    1\n",
       "42256    1\n",
       "        ..\n",
       "21136    1\n",
       "21137    1\n",
       "21138    1\n",
       "21139    1\n",
       "63393    1\n",
       "Name: ENTRIES, Length: 63394, dtype: int64"
      ]
     },
     "execution_count": 13,
     "metadata": {},
     "output_type": "execute_result"
    }
   ],
   "source": [
    "mta_groups_1 = (mta\n",
    " .groupby([\"CA\", \"UNIT\", \"SCP\", \"STATION\", \"DATETIME\"])\n",
    " .ENTRIES.count()\n",
    " .reset_index()\n",
    " .sort_values(\"ENTRIES\", ascending=False))\n",
    "mta_groups_1.ENTRIES"
   ]
  },
  {
   "cell_type": "markdown",
   "metadata": {},
   "source": [
    "Okay, that shows that the rows are all unique in terms of \"CA\", \"UNIT\", \"SCP\", \"STATION\", and \"DATETIME\"."
   ]
  },
  {
   "cell_type": "markdown",
   "metadata": {},
   "source": [
    "Let's check that turnstile_id groupby gives the same result"
   ]
  },
  {
   "cell_type": "code",
   "execution_count": 14,
   "metadata": {},
   "outputs": [
    {
     "data": {
      "text/plain": [
       "0        1\n",
       "42252    1\n",
       "42254    1\n",
       "42255    1\n",
       "42256    1\n",
       "        ..\n",
       "21136    1\n",
       "21137    1\n",
       "21138    1\n",
       "21139    1\n",
       "63393    1\n",
       "Name: ENTRIES, Length: 63394, dtype: int64"
      ]
     },
     "execution_count": 14,
     "metadata": {},
     "output_type": "execute_result"
    }
   ],
   "source": [
    "mta_groups_2 = (mta\n",
    "    .groupby(['turnstile_id', 'DATETIME'])\n",
    "    ['ENTRIES'].count()\n",
    "    .reset_index()\n",
    "    .sort_values(\"ENTRIES\", ascending=False))\n",
    "mta_groups_2.ENTRIES"
   ]
  },
  {
   "cell_type": "code",
   "execution_count": 15,
   "metadata": {},
   "outputs": [],
   "source": [
    "assert (mta_groups_2.ENTRIES == mta_groups_1.ENTRIES).all()"
   ]
  },
  {
   "cell_type": "markdown",
   "metadata": {},
   "source": [
    "The assertion passed, confirming that those two are the same, so I can use them equivalently"
   ]
  },
  {
   "cell_type": "code",
   "execution_count": 16,
   "metadata": {},
   "outputs": [],
   "source": [
    "turnstiles_daily = (mta.groupby([\"CA\", \"UNIT\", \"SCP\", \"STATION\", \"DATE\"])\n",
    "                    ['ENTRIES', 'DATETIME', 'turnstile_id'].first()).reset_index()"
   ]
  },
  {
   "cell_type": "code",
   "execution_count": 17,
   "metadata": {},
   "outputs": [
    {
     "data": {
      "text/html": [
       "<div>\n",
       "<style scoped>\n",
       "    .dataframe tbody tr th:only-of-type {\n",
       "        vertical-align: middle;\n",
       "    }\n",
       "\n",
       "    .dataframe tbody tr th {\n",
       "        vertical-align: top;\n",
       "    }\n",
       "\n",
       "    .dataframe thead th {\n",
       "        text-align: right;\n",
       "    }\n",
       "</style>\n",
       "<table border=\"1\" class=\"dataframe\">\n",
       "  <thead>\n",
       "    <tr style=\"text-align: right;\">\n",
       "      <th></th>\n",
       "      <th>CA</th>\n",
       "      <th>UNIT</th>\n",
       "      <th>SCP</th>\n",
       "      <th>STATION</th>\n",
       "      <th>DATE</th>\n",
       "      <th>ENTRIES</th>\n",
       "      <th>DATETIME</th>\n",
       "      <th>turnstile_id</th>\n",
       "    </tr>\n",
       "  </thead>\n",
       "  <tbody>\n",
       "    <tr>\n",
       "      <th>0</th>\n",
       "      <td>A002</td>\n",
       "      <td>R051</td>\n",
       "      <td>02-00-00</td>\n",
       "      <td>59 ST</td>\n",
       "      <td>2019-03-30</td>\n",
       "      <td>6999064</td>\n",
       "      <td>2019-03-30</td>\n",
       "      <td>A002R05102-00-00</td>\n",
       "    </tr>\n",
       "    <tr>\n",
       "      <th>1</th>\n",
       "      <td>A002</td>\n",
       "      <td>R051</td>\n",
       "      <td>02-00-00</td>\n",
       "      <td>59 ST</td>\n",
       "      <td>2019-03-31</td>\n",
       "      <td>6999957</td>\n",
       "      <td>2019-03-31</td>\n",
       "      <td>A002R05102-00-00</td>\n",
       "    </tr>\n",
       "    <tr>\n",
       "      <th>2</th>\n",
       "      <td>A002</td>\n",
       "      <td>R051</td>\n",
       "      <td>02-00-00</td>\n",
       "      <td>59 ST</td>\n",
       "      <td>2019-04-01</td>\n",
       "      <td>7000528</td>\n",
       "      <td>2019-04-01</td>\n",
       "      <td>A002R05102-00-00</td>\n",
       "    </tr>\n",
       "    <tr>\n",
       "      <th>3</th>\n",
       "      <td>A002</td>\n",
       "      <td>R051</td>\n",
       "      <td>02-00-00</td>\n",
       "      <td>59 ST</td>\n",
       "      <td>2019-04-02</td>\n",
       "      <td>7002087</td>\n",
       "      <td>2019-04-02</td>\n",
       "      <td>A002R05102-00-00</td>\n",
       "    </tr>\n",
       "    <tr>\n",
       "      <th>4</th>\n",
       "      <td>A002</td>\n",
       "      <td>R051</td>\n",
       "      <td>02-00-00</td>\n",
       "      <td>59 ST</td>\n",
       "      <td>2019-04-03</td>\n",
       "      <td>7003680</td>\n",
       "      <td>2019-04-03</td>\n",
       "      <td>A002R05102-00-00</td>\n",
       "    </tr>\n",
       "    <tr>\n",
       "      <th>...</th>\n",
       "      <td>...</td>\n",
       "      <td>...</td>\n",
       "      <td>...</td>\n",
       "      <td>...</td>\n",
       "      <td>...</td>\n",
       "      <td>...</td>\n",
       "      <td>...</td>\n",
       "      <td>...</td>\n",
       "    </tr>\n",
       "    <tr>\n",
       "      <th>63389</th>\n",
       "      <td>S101A</td>\n",
       "      <td>R070</td>\n",
       "      <td>01-05-01</td>\n",
       "      <td>ST. GEORGE</td>\n",
       "      <td>2019-04-15</td>\n",
       "      <td>625</td>\n",
       "      <td>2019-04-15</td>\n",
       "      <td>S101AR07001-05-01</td>\n",
       "    </tr>\n",
       "    <tr>\n",
       "      <th>63390</th>\n",
       "      <td>S101A</td>\n",
       "      <td>R070</td>\n",
       "      <td>01-05-01</td>\n",
       "      <td>ST. GEORGE</td>\n",
       "      <td>2019-04-16</td>\n",
       "      <td>626</td>\n",
       "      <td>2019-04-16</td>\n",
       "      <td>S101AR07001-05-01</td>\n",
       "    </tr>\n",
       "    <tr>\n",
       "      <th>63391</th>\n",
       "      <td>S101A</td>\n",
       "      <td>R070</td>\n",
       "      <td>01-05-01</td>\n",
       "      <td>ST. GEORGE</td>\n",
       "      <td>2019-04-17</td>\n",
       "      <td>626</td>\n",
       "      <td>2019-04-17</td>\n",
       "      <td>S101AR07001-05-01</td>\n",
       "    </tr>\n",
       "    <tr>\n",
       "      <th>63392</th>\n",
       "      <td>S101A</td>\n",
       "      <td>R070</td>\n",
       "      <td>01-05-01</td>\n",
       "      <td>ST. GEORGE</td>\n",
       "      <td>2019-04-18</td>\n",
       "      <td>626</td>\n",
       "      <td>2019-04-18</td>\n",
       "      <td>S101AR07001-05-01</td>\n",
       "    </tr>\n",
       "    <tr>\n",
       "      <th>63393</th>\n",
       "      <td>S101A</td>\n",
       "      <td>R070</td>\n",
       "      <td>01-05-01</td>\n",
       "      <td>ST. GEORGE</td>\n",
       "      <td>2019-04-19</td>\n",
       "      <td>626</td>\n",
       "      <td>2019-04-19</td>\n",
       "      <td>S101AR07001-05-01</td>\n",
       "    </tr>\n",
       "  </tbody>\n",
       "</table>\n",
       "<p>63394 rows × 8 columns</p>\n",
       "</div>"
      ],
      "text/plain": [
       "          CA  UNIT       SCP     STATION       DATE  ENTRIES   DATETIME  \\\n",
       "0       A002  R051  02-00-00       59 ST 2019-03-30  6999064 2019-03-30   \n",
       "1       A002  R051  02-00-00       59 ST 2019-03-31  6999957 2019-03-31   \n",
       "2       A002  R051  02-00-00       59 ST 2019-04-01  7000528 2019-04-01   \n",
       "3       A002  R051  02-00-00       59 ST 2019-04-02  7002087 2019-04-02   \n",
       "4       A002  R051  02-00-00       59 ST 2019-04-03  7003680 2019-04-03   \n",
       "...      ...   ...       ...         ...        ...      ...        ...   \n",
       "63389  S101A  R070  01-05-01  ST. GEORGE 2019-04-15      625 2019-04-15   \n",
       "63390  S101A  R070  01-05-01  ST. GEORGE 2019-04-16      626 2019-04-16   \n",
       "63391  S101A  R070  01-05-01  ST. GEORGE 2019-04-17      626 2019-04-17   \n",
       "63392  S101A  R070  01-05-01  ST. GEORGE 2019-04-18      626 2019-04-18   \n",
       "63393  S101A  R070  01-05-01  ST. GEORGE 2019-04-19      626 2019-04-19   \n",
       "\n",
       "            turnstile_id  \n",
       "0       A002R05102-00-00  \n",
       "1       A002R05102-00-00  \n",
       "2       A002R05102-00-00  \n",
       "3       A002R05102-00-00  \n",
       "4       A002R05102-00-00  \n",
       "...                  ...  \n",
       "63389  S101AR07001-05-01  \n",
       "63390  S101AR07001-05-01  \n",
       "63391  S101AR07001-05-01  \n",
       "63392  S101AR07001-05-01  \n",
       "63393  S101AR07001-05-01  \n",
       "\n",
       "[63394 rows x 8 columns]"
      ]
     },
     "execution_count": 17,
     "metadata": {},
     "output_type": "execute_result"
    }
   ],
   "source": [
    "turnstiles_daily"
   ]
  },
  {
   "cell_type": "markdown",
   "metadata": {},
   "source": [
    "Filter down to monday midnight through saturday midnight"
   ]
  },
  {
   "cell_type": "code",
   "execution_count": 18,
   "metadata": {},
   "outputs": [
    {
     "data": {
      "text/plain": [
       "0        5\n",
       "1        6\n",
       "2        0\n",
       "3        1\n",
       "4        2\n",
       "        ..\n",
       "63389    0\n",
       "63390    1\n",
       "63391    2\n",
       "63392    3\n",
       "63393    4\n",
       "Name: DATETIME, Length: 63394, dtype: int64"
      ]
     },
     "execution_count": 18,
     "metadata": {},
     "output_type": "execute_result"
    }
   ],
   "source": [
    "turnstiles_daily.DATETIME.dt.dayofweek"
   ]
  },
  {
   "cell_type": "code",
   "execution_count": 20,
   "metadata": {},
   "outputs": [],
   "source": [
    "turnstiles_daily = turnstiles_daily[((turnstiles_daily.DATETIME.dt.dayofweek == 0) \n",
    " | (turnstiles_daily.DATETIME.dt.dayofweek == 1)\n",
    " | (turnstiles_daily.DATETIME.dt.dayofweek == 2)\n",
    " | (turnstiles_daily.DATETIME.dt.dayofweek == 3)\n",
    " | (turnstiles_daily.DATETIME.dt.dayofweek == 4))]"
   ]
  },
  {
   "cell_type": "code",
   "execution_count": 21,
   "metadata": {},
   "outputs": [
    {
     "data": {
      "text/html": [
       "<div>\n",
       "<style scoped>\n",
       "    .dataframe tbody tr th:only-of-type {\n",
       "        vertical-align: middle;\n",
       "    }\n",
       "\n",
       "    .dataframe tbody tr th {\n",
       "        vertical-align: top;\n",
       "    }\n",
       "\n",
       "    .dataframe thead th {\n",
       "        text-align: right;\n",
       "    }\n",
       "</style>\n",
       "<table border=\"1\" class=\"dataframe\">\n",
       "  <thead>\n",
       "    <tr style=\"text-align: right;\">\n",
       "      <th></th>\n",
       "      <th>CA</th>\n",
       "      <th>UNIT</th>\n",
       "      <th>SCP</th>\n",
       "      <th>STATION</th>\n",
       "      <th>DATE</th>\n",
       "      <th>ENTRIES</th>\n",
       "      <th>DATETIME</th>\n",
       "      <th>turnstile_id</th>\n",
       "    </tr>\n",
       "  </thead>\n",
       "  <tbody>\n",
       "    <tr>\n",
       "      <th>2</th>\n",
       "      <td>A002</td>\n",
       "      <td>R051</td>\n",
       "      <td>02-00-00</td>\n",
       "      <td>59 ST</td>\n",
       "      <td>2019-04-01</td>\n",
       "      <td>7000528</td>\n",
       "      <td>2019-04-01</td>\n",
       "      <td>A002R05102-00-00</td>\n",
       "    </tr>\n",
       "    <tr>\n",
       "      <th>3</th>\n",
       "      <td>A002</td>\n",
       "      <td>R051</td>\n",
       "      <td>02-00-00</td>\n",
       "      <td>59 ST</td>\n",
       "      <td>2019-04-02</td>\n",
       "      <td>7002087</td>\n",
       "      <td>2019-04-02</td>\n",
       "      <td>A002R05102-00-00</td>\n",
       "    </tr>\n",
       "    <tr>\n",
       "      <th>4</th>\n",
       "      <td>A002</td>\n",
       "      <td>R051</td>\n",
       "      <td>02-00-00</td>\n",
       "      <td>59 ST</td>\n",
       "      <td>2019-04-03</td>\n",
       "      <td>7003680</td>\n",
       "      <td>2019-04-03</td>\n",
       "      <td>A002R05102-00-00</td>\n",
       "    </tr>\n",
       "    <tr>\n",
       "      <th>5</th>\n",
       "      <td>A002</td>\n",
       "      <td>R051</td>\n",
       "      <td>02-00-00</td>\n",
       "      <td>59 ST</td>\n",
       "      <td>2019-04-04</td>\n",
       "      <td>7005332</td>\n",
       "      <td>2019-04-04</td>\n",
       "      <td>A002R05102-00-00</td>\n",
       "    </tr>\n",
       "    <tr>\n",
       "      <th>6</th>\n",
       "      <td>A002</td>\n",
       "      <td>R051</td>\n",
       "      <td>02-00-00</td>\n",
       "      <td>59 ST</td>\n",
       "      <td>2019-04-05</td>\n",
       "      <td>7006970</td>\n",
       "      <td>2019-04-05</td>\n",
       "      <td>A002R05102-00-00</td>\n",
       "    </tr>\n",
       "    <tr>\n",
       "      <th>...</th>\n",
       "      <td>...</td>\n",
       "      <td>...</td>\n",
       "      <td>...</td>\n",
       "      <td>...</td>\n",
       "      <td>...</td>\n",
       "      <td>...</td>\n",
       "      <td>...</td>\n",
       "      <td>...</td>\n",
       "    </tr>\n",
       "    <tr>\n",
       "      <th>63389</th>\n",
       "      <td>S101A</td>\n",
       "      <td>R070</td>\n",
       "      <td>01-05-01</td>\n",
       "      <td>ST. GEORGE</td>\n",
       "      <td>2019-04-15</td>\n",
       "      <td>625</td>\n",
       "      <td>2019-04-15</td>\n",
       "      <td>S101AR07001-05-01</td>\n",
       "    </tr>\n",
       "    <tr>\n",
       "      <th>63390</th>\n",
       "      <td>S101A</td>\n",
       "      <td>R070</td>\n",
       "      <td>01-05-01</td>\n",
       "      <td>ST. GEORGE</td>\n",
       "      <td>2019-04-16</td>\n",
       "      <td>626</td>\n",
       "      <td>2019-04-16</td>\n",
       "      <td>S101AR07001-05-01</td>\n",
       "    </tr>\n",
       "    <tr>\n",
       "      <th>63391</th>\n",
       "      <td>S101A</td>\n",
       "      <td>R070</td>\n",
       "      <td>01-05-01</td>\n",
       "      <td>ST. GEORGE</td>\n",
       "      <td>2019-04-17</td>\n",
       "      <td>626</td>\n",
       "      <td>2019-04-17</td>\n",
       "      <td>S101AR07001-05-01</td>\n",
       "    </tr>\n",
       "    <tr>\n",
       "      <th>63392</th>\n",
       "      <td>S101A</td>\n",
       "      <td>R070</td>\n",
       "      <td>01-05-01</td>\n",
       "      <td>ST. GEORGE</td>\n",
       "      <td>2019-04-18</td>\n",
       "      <td>626</td>\n",
       "      <td>2019-04-18</td>\n",
       "      <td>S101AR07001-05-01</td>\n",
       "    </tr>\n",
       "    <tr>\n",
       "      <th>63393</th>\n",
       "      <td>S101A</td>\n",
       "      <td>R070</td>\n",
       "      <td>01-05-01</td>\n",
       "      <td>ST. GEORGE</td>\n",
       "      <td>2019-04-19</td>\n",
       "      <td>626</td>\n",
       "      <td>2019-04-19</td>\n",
       "      <td>S101AR07001-05-01</td>\n",
       "    </tr>\n",
       "  </tbody>\n",
       "</table>\n",
       "<p>45302 rows × 8 columns</p>\n",
       "</div>"
      ],
      "text/plain": [
       "          CA  UNIT       SCP     STATION       DATE  ENTRIES   DATETIME  \\\n",
       "2       A002  R051  02-00-00       59 ST 2019-04-01  7000528 2019-04-01   \n",
       "3       A002  R051  02-00-00       59 ST 2019-04-02  7002087 2019-04-02   \n",
       "4       A002  R051  02-00-00       59 ST 2019-04-03  7003680 2019-04-03   \n",
       "5       A002  R051  02-00-00       59 ST 2019-04-04  7005332 2019-04-04   \n",
       "6       A002  R051  02-00-00       59 ST 2019-04-05  7006970 2019-04-05   \n",
       "...      ...   ...       ...         ...        ...      ...        ...   \n",
       "63389  S101A  R070  01-05-01  ST. GEORGE 2019-04-15      625 2019-04-15   \n",
       "63390  S101A  R070  01-05-01  ST. GEORGE 2019-04-16      626 2019-04-16   \n",
       "63391  S101A  R070  01-05-01  ST. GEORGE 2019-04-17      626 2019-04-17   \n",
       "63392  S101A  R070  01-05-01  ST. GEORGE 2019-04-18      626 2019-04-18   \n",
       "63393  S101A  R070  01-05-01  ST. GEORGE 2019-04-19      626 2019-04-19   \n",
       "\n",
       "            turnstile_id  \n",
       "2       A002R05102-00-00  \n",
       "3       A002R05102-00-00  \n",
       "4       A002R05102-00-00  \n",
       "5       A002R05102-00-00  \n",
       "6       A002R05102-00-00  \n",
       "...                  ...  \n",
       "63389  S101AR07001-05-01  \n",
       "63390  S101AR07001-05-01  \n",
       "63391  S101AR07001-05-01  \n",
       "63392  S101AR07001-05-01  \n",
       "63393  S101AR07001-05-01  \n",
       "\n",
       "[45302 rows x 8 columns]"
      ]
     },
     "execution_count": 21,
     "metadata": {},
     "output_type": "execute_result"
    }
   ],
   "source": [
    "turnstiles_daily"
   ]
  },
  {
   "cell_type": "code",
   "execution_count": 22,
   "metadata": {},
   "outputs": [],
   "source": [
    "# turnstiles_daily.loc[:,'turnstile_id']"
   ]
  },
  {
   "cell_type": "code",
   "execution_count": 23,
   "metadata": {},
   "outputs": [],
   "source": [
    "# turnstiles_daily.loc[:,\"SCP\"]"
   ]
  },
  {
   "cell_type": "markdown",
   "metadata": {},
   "source": [
    "Add columns for previous date and previous entries"
   ]
  },
  {
   "cell_type": "code",
   "execution_count": 24,
   "metadata": {},
   "outputs": [],
   "source": [
    "# turnstiles_daily.loc[:,[\"PREV_DATE\", \"PREV_ENTRIES\", 'DATETIME']]"
   ]
  },
  {
   "cell_type": "code",
   "execution_count": 31,
   "metadata": {},
   "outputs": [
    {
     "data": {
      "text/html": [
       "<div>\n",
       "<style scoped>\n",
       "    .dataframe tbody tr th:only-of-type {\n",
       "        vertical-align: middle;\n",
       "    }\n",
       "\n",
       "    .dataframe tbody tr th {\n",
       "        vertical-align: top;\n",
       "    }\n",
       "\n",
       "    .dataframe thead th {\n",
       "        text-align: right;\n",
       "    }\n",
       "</style>\n",
       "<table border=\"1\" class=\"dataframe\">\n",
       "  <thead>\n",
       "    <tr style=\"text-align: right;\">\n",
       "      <th></th>\n",
       "      <th>PREV_DATE</th>\n",
       "      <th>PREV_ENTRIES</th>\n",
       "      <th>DATETIME</th>\n",
       "    </tr>\n",
       "  </thead>\n",
       "  <tbody>\n",
       "    <tr>\n",
       "      <th>2</th>\n",
       "      <td>NaN</td>\n",
       "      <td>NaN</td>\n",
       "      <td>2019-04-01</td>\n",
       "    </tr>\n",
       "    <tr>\n",
       "      <th>3</th>\n",
       "      <td>NaN</td>\n",
       "      <td>NaN</td>\n",
       "      <td>2019-04-02</td>\n",
       "    </tr>\n",
       "    <tr>\n",
       "      <th>4</th>\n",
       "      <td>NaN</td>\n",
       "      <td>NaN</td>\n",
       "      <td>2019-04-03</td>\n",
       "    </tr>\n",
       "    <tr>\n",
       "      <th>5</th>\n",
       "      <td>NaN</td>\n",
       "      <td>NaN</td>\n",
       "      <td>2019-04-04</td>\n",
       "    </tr>\n",
       "    <tr>\n",
       "      <th>6</th>\n",
       "      <td>NaN</td>\n",
       "      <td>NaN</td>\n",
       "      <td>2019-04-05</td>\n",
       "    </tr>\n",
       "    <tr>\n",
       "      <th>...</th>\n",
       "      <td>...</td>\n",
       "      <td>...</td>\n",
       "      <td>...</td>\n",
       "    </tr>\n",
       "    <tr>\n",
       "      <th>63389</th>\n",
       "      <td>NaN</td>\n",
       "      <td>NaN</td>\n",
       "      <td>2019-04-15</td>\n",
       "    </tr>\n",
       "    <tr>\n",
       "      <th>63390</th>\n",
       "      <td>NaN</td>\n",
       "      <td>NaN</td>\n",
       "      <td>2019-04-16</td>\n",
       "    </tr>\n",
       "    <tr>\n",
       "      <th>63391</th>\n",
       "      <td>NaN</td>\n",
       "      <td>NaN</td>\n",
       "      <td>2019-04-17</td>\n",
       "    </tr>\n",
       "    <tr>\n",
       "      <th>63392</th>\n",
       "      <td>NaN</td>\n",
       "      <td>NaN</td>\n",
       "      <td>2019-04-18</td>\n",
       "    </tr>\n",
       "    <tr>\n",
       "      <th>63393</th>\n",
       "      <td>NaN</td>\n",
       "      <td>NaN</td>\n",
       "      <td>2019-04-19</td>\n",
       "    </tr>\n",
       "  </tbody>\n",
       "</table>\n",
       "<p>45302 rows × 3 columns</p>\n",
       "</div>"
      ],
      "text/plain": [
       "       PREV_DATE  PREV_ENTRIES   DATETIME\n",
       "2            NaN           NaN 2019-04-01\n",
       "3            NaN           NaN 2019-04-02\n",
       "4            NaN           NaN 2019-04-03\n",
       "5            NaN           NaN 2019-04-04\n",
       "6            NaN           NaN 2019-04-05\n",
       "...          ...           ...        ...\n",
       "63389        NaN           NaN 2019-04-15\n",
       "63390        NaN           NaN 2019-04-16\n",
       "63391        NaN           NaN 2019-04-17\n",
       "63392        NaN           NaN 2019-04-18\n",
       "63393        NaN           NaN 2019-04-19\n",
       "\n",
       "[45302 rows x 3 columns]"
      ]
     },
     "execution_count": 31,
     "metadata": {},
     "output_type": "execute_result"
    }
   ],
   "source": [
    "turnstiles_daily.loc[:,[\"PREV_DATE\", \"PREV_ENTRIES\", 'DATETIME']]"
   ]
  },
  {
   "cell_type": "code",
   "execution_count": 32,
   "metadata": {},
   "outputs": [
    {
     "data": {
      "text/html": [
       "<div>\n",
       "<style scoped>\n",
       "    .dataframe tbody tr th:only-of-type {\n",
       "        vertical-align: middle;\n",
       "    }\n",
       "\n",
       "    .dataframe tbody tr th {\n",
       "        vertical-align: top;\n",
       "    }\n",
       "\n",
       "    .dataframe thead th {\n",
       "        text-align: right;\n",
       "    }\n",
       "</style>\n",
       "<table border=\"1\" class=\"dataframe\">\n",
       "  <thead>\n",
       "    <tr style=\"text-align: right;\">\n",
       "      <th></th>\n",
       "      <th>DATE</th>\n",
       "      <th>ENTRIES</th>\n",
       "      <th>DATETIME</th>\n",
       "    </tr>\n",
       "  </thead>\n",
       "  <tbody>\n",
       "    <tr>\n",
       "      <th>2</th>\n",
       "      <td>NaT</td>\n",
       "      <td>NaN</td>\n",
       "      <td>NaT</td>\n",
       "    </tr>\n",
       "    <tr>\n",
       "      <th>3</th>\n",
       "      <td>2019-04-01</td>\n",
       "      <td>7000528.0</td>\n",
       "      <td>2019-04-01</td>\n",
       "    </tr>\n",
       "    <tr>\n",
       "      <th>4</th>\n",
       "      <td>2019-04-02</td>\n",
       "      <td>7002087.0</td>\n",
       "      <td>2019-04-02</td>\n",
       "    </tr>\n",
       "    <tr>\n",
       "      <th>5</th>\n",
       "      <td>2019-04-03</td>\n",
       "      <td>7003680.0</td>\n",
       "      <td>2019-04-03</td>\n",
       "    </tr>\n",
       "    <tr>\n",
       "      <th>6</th>\n",
       "      <td>2019-04-04</td>\n",
       "      <td>7005332.0</td>\n",
       "      <td>2019-04-04</td>\n",
       "    </tr>\n",
       "    <tr>\n",
       "      <th>...</th>\n",
       "      <td>...</td>\n",
       "      <td>...</td>\n",
       "      <td>...</td>\n",
       "    </tr>\n",
       "    <tr>\n",
       "      <th>63389</th>\n",
       "      <td>2019-04-12</td>\n",
       "      <td>625.0</td>\n",
       "      <td>2019-04-12</td>\n",
       "    </tr>\n",
       "    <tr>\n",
       "      <th>63390</th>\n",
       "      <td>2019-04-15</td>\n",
       "      <td>625.0</td>\n",
       "      <td>2019-04-15</td>\n",
       "    </tr>\n",
       "    <tr>\n",
       "      <th>63391</th>\n",
       "      <td>2019-04-16</td>\n",
       "      <td>626.0</td>\n",
       "      <td>2019-04-16</td>\n",
       "    </tr>\n",
       "    <tr>\n",
       "      <th>63392</th>\n",
       "      <td>2019-04-17</td>\n",
       "      <td>626.0</td>\n",
       "      <td>2019-04-17</td>\n",
       "    </tr>\n",
       "    <tr>\n",
       "      <th>63393</th>\n",
       "      <td>2019-04-18</td>\n",
       "      <td>626.0</td>\n",
       "      <td>2019-04-18</td>\n",
       "    </tr>\n",
       "  </tbody>\n",
       "</table>\n",
       "<p>45302 rows × 3 columns</p>\n",
       "</div>"
      ],
      "text/plain": [
       "            DATE    ENTRIES   DATETIME\n",
       "2            NaT        NaN        NaT\n",
       "3     2019-04-01  7000528.0 2019-04-01\n",
       "4     2019-04-02  7002087.0 2019-04-02\n",
       "5     2019-04-03  7003680.0 2019-04-03\n",
       "6     2019-04-04  7005332.0 2019-04-04\n",
       "...          ...        ...        ...\n",
       "63389 2019-04-12      625.0 2019-04-12\n",
       "63390 2019-04-15      625.0 2019-04-15\n",
       "63391 2019-04-16      626.0 2019-04-16\n",
       "63392 2019-04-17      626.0 2019-04-17\n",
       "63393 2019-04-18      626.0 2019-04-18\n",
       "\n",
       "[45302 rows x 3 columns]"
      ]
     },
     "execution_count": 32,
     "metadata": {},
     "output_type": "execute_result"
    }
   ],
   "source": [
    " (turnstiles_daily\n",
    "                                                       .groupby([\"CA\", \"UNIT\", \"SCP\", \"STATION\"])[\"DATE\", \"ENTRIES\", 'DATETIME']\n",
    "                                                       .transform(lambda grp: grp.shift(1)))\n"
   ]
  },
  {
   "cell_type": "code",
   "execution_count": 26,
   "metadata": {},
   "outputs": [
    {
     "ename": "KeyError",
     "evalue": "\"Columns not found: 'PREV_ENTRIES', 'PREV_DATE'\"",
     "output_type": "error",
     "traceback": [
      "\u001b[0;31m---------------------------------------------------------------------------\u001b[0m",
      "\u001b[0;31mKeyError\u001b[0m                                  Traceback (most recent call last)",
      "\u001b[0;32m<ipython-input-26-de5654d8cfdf>\u001b[0m in \u001b[0;36m<module>\u001b[0;34m\u001b[0m\n\u001b[1;32m      1\u001b[0m turnstiles_daily.loc[:,[\"PREV_DATE\", \"PREV_ENTRIES\", 'DATETIME']] = (turnstiles_daily\n\u001b[0;32m----> 2\u001b[0;31m                                                        \u001b[0;34m.\u001b[0m\u001b[0mgroupby\u001b[0m\u001b[0;34m(\u001b[0m\u001b[0;34m[\u001b[0m\u001b[0;34m\"CA\"\u001b[0m\u001b[0;34m,\u001b[0m \u001b[0;34m\"UNIT\"\u001b[0m\u001b[0;34m,\u001b[0m \u001b[0;34m\"SCP\"\u001b[0m\u001b[0;34m,\u001b[0m \u001b[0;34m\"STATION\"\u001b[0m\u001b[0;34m]\u001b[0m\u001b[0;34m)\u001b[0m\u001b[0;34m[\u001b[0m\u001b[0;34m\"DATE\"\u001b[0m\u001b[0;34m,\u001b[0m \u001b[0;34m\"ENTRIES\"\u001b[0m\u001b[0;34m,\u001b[0m \u001b[0;34m'DATETIME'\u001b[0m\u001b[0;34m,\u001b[0m\u001b[0;34m'PREV_DATE'\u001b[0m\u001b[0;34m,\u001b[0m \u001b[0;34m'PREV_ENTRIES'\u001b[0m\u001b[0;34m]\u001b[0m\u001b[0;34m\u001b[0m\u001b[0;34m\u001b[0m\u001b[0m\n\u001b[0m\u001b[1;32m      3\u001b[0m                                                        .transform(lambda grp: grp.shift(1)))\n",
      "\u001b[0;32m~/anaconda3/envs/metis/lib/python3.7/site-packages/pandas/core/base.py\u001b[0m in \u001b[0;36m__getitem__\u001b[0;34m(self, key)\u001b[0m\n\u001b[1;32m    255\u001b[0m                 \u001b[0mbad_keys\u001b[0m \u001b[0;34m=\u001b[0m \u001b[0mlist\u001b[0m\u001b[0;34m(\u001b[0m\u001b[0mset\u001b[0m\u001b[0;34m(\u001b[0m\u001b[0mkey\u001b[0m\u001b[0;34m)\u001b[0m\u001b[0;34m.\u001b[0m\u001b[0mdifference\u001b[0m\u001b[0;34m(\u001b[0m\u001b[0mself\u001b[0m\u001b[0;34m.\u001b[0m\u001b[0mobj\u001b[0m\u001b[0;34m.\u001b[0m\u001b[0mcolumns\u001b[0m\u001b[0;34m)\u001b[0m\u001b[0;34m)\u001b[0m\u001b[0;34m\u001b[0m\u001b[0;34m\u001b[0m\u001b[0m\n\u001b[1;32m    256\u001b[0m                 raise KeyError(\n\u001b[0;32m--> 257\u001b[0;31m                     \u001b[0;34m\"Columns not found: {missing}\"\u001b[0m\u001b[0;34m.\u001b[0m\u001b[0mformat\u001b[0m\u001b[0;34m(\u001b[0m\u001b[0mmissing\u001b[0m\u001b[0;34m=\u001b[0m\u001b[0mstr\u001b[0m\u001b[0;34m(\u001b[0m\u001b[0mbad_keys\u001b[0m\u001b[0;34m)\u001b[0m\u001b[0;34m[\u001b[0m\u001b[0;36m1\u001b[0m\u001b[0;34m:\u001b[0m\u001b[0;34m-\u001b[0m\u001b[0;36m1\u001b[0m\u001b[0;34m]\u001b[0m\u001b[0;34m)\u001b[0m\u001b[0;34m\u001b[0m\u001b[0;34m\u001b[0m\u001b[0m\n\u001b[0m\u001b[1;32m    258\u001b[0m                 )\n\u001b[1;32m    259\u001b[0m             \u001b[0;32mreturn\u001b[0m \u001b[0mself\u001b[0m\u001b[0;34m.\u001b[0m\u001b[0m_gotitem\u001b[0m\u001b[0;34m(\u001b[0m\u001b[0mlist\u001b[0m\u001b[0;34m(\u001b[0m\u001b[0mkey\u001b[0m\u001b[0;34m)\u001b[0m\u001b[0;34m,\u001b[0m \u001b[0mndim\u001b[0m\u001b[0;34m=\u001b[0m\u001b[0;36m2\u001b[0m\u001b[0;34m)\u001b[0m\u001b[0;34m\u001b[0m\u001b[0;34m\u001b[0m\u001b[0m\n",
      "\u001b[0;31mKeyError\u001b[0m: \"Columns not found: 'PREV_ENTRIES', 'PREV_DATE'\""
     ]
    }
   ],
   "source": [
    "turnstiles_daily.loc[:,[\"PREV_DATE\", \"PREV_ENTRIES\", 'DATETIME']] = (turnstiles_daily\n",
    "                                                       .groupby([\"CA\", \"UNIT\", \"SCP\", \"STATION\"])[\"DATE\", \"ENTRIES\", 'DATETIME']\n",
    "                                                       .transform(lambda grp: grp.shift(1)))\n"
   ]
  },
  {
   "cell_type": "code",
   "execution_count": null,
   "metadata": {},
   "outputs": [],
   "source": []
  },
  {
   "cell_type": "markdown",
   "metadata": {},
   "source": [
    "And add a today - prev column"
   ]
  },
  {
   "cell_type": "code",
   "execution_count": null,
   "metadata": {},
   "outputs": [],
   "source": [
    "turnstiles_daily.loc['day_minus_prev_entries'] = (turnstiles_daily.ENTRIES - turnstiles_daily.PREV_ENTRIES)"
   ]
  },
  {
   "cell_type": "code",
   "execution_count": null,
   "metadata": {},
   "outputs": [],
   "source": [
    "turnstiles_daily.head()"
   ]
  },
  {
   "cell_type": "code",
   "execution_count": null,
   "metadata": {},
   "outputs": [],
   "source": [
    "turnstiles_daily.tail()"
   ]
  },
  {
   "cell_type": "markdown",
   "metadata": {},
   "source": [
    "Drop the first date rows that have NaN entries"
   ]
  },
  {
   "cell_type": "code",
   "execution_count": null,
   "metadata": {},
   "outputs": [],
   "source": [
    "turnstiles_daily.dropna(subset=[\"PREV_DATE\"], axis=0, inplace=True)"
   ]
  },
  {
   "cell_type": "code",
   "execution_count": null,
   "metadata": {},
   "outputs": [],
   "source": [
    "turnstiles_daily.head()"
   ]
  },
  {
   "cell_type": "markdown",
   "metadata": {},
   "source": [
    "Sanity check that today's entries are greater than tomorrow's entries\n"
   ]
  },
  {
   "cell_type": "code",
   "execution_count": null,
   "metadata": {},
   "outputs": [],
   "source": [
    "try:\n",
    "    assert (turnstiles_daily[\"ENTRIES\"] > turnstiles_daily[\"PREV_ENTRIES\"]).all()\n",
    "except:\n",
    "    print(\"assertion failed\")"
   ]
  },
  {
   "cell_type": "markdown",
   "metadata": {},
   "source": [
    "Let's look at the rows where yesterday's counts are greater than today's counts"
   ]
  },
  {
   "cell_type": "code",
   "execution_count": null,
   "metadata": {},
   "outputs": [],
   "source": [
    "yesterday_greater = turnstiles_daily[turnstiles_daily[\"ENTRIES\"] < turnstiles_daily[\"PREV_ENTRIES\"]]\n",
    "\n",
    "yesterday_greater.head()"
   ]
  },
  {
   "cell_type": "code",
   "execution_count": null,
   "metadata": {},
   "outputs": [],
   "source": [
    "yesterday_greater.groupby(['turnstile_id']).count().head(10)"
   ]
  },
  {
   "cell_type": "markdown",
   "metadata": {},
   "source": [
    "Many of these have 27 entries. Let's check out one"
   ]
  },
  {
   "cell_type": "code",
   "execution_count": null,
   "metadata": {},
   "outputs": [],
   "source": [
    "turnstiles_daily[turnstiles_daily.turnstile_id == 'C021R21200-00-02'].sort_values('DATETIME').head(10)"
   ]
  },
  {
   "cell_type": "code",
   "execution_count": null,
   "metadata": {},
   "outputs": [],
   "source": [
    "turnstiles_daily.count()"
   ]
  },
  {
   "cell_type": "code",
   "execution_count": null,
   "metadata": {},
   "outputs": [],
   "source": [
    "turnstiles_daily[turnstiles_daily.day_minus_prev_entries < 0].count()"
   ]
  },
  {
   "cell_type": "markdown",
   "metadata": {},
   "source": [
    "What percentage of data do we lose if we through out the negative values?"
   ]
  },
  {
   "cell_type": "code",
   "execution_count": null,
   "metadata": {},
   "outputs": [],
   "source": [
    "752 / 60909"
   ]
  },
  {
   "cell_type": "markdown",
   "metadata": {},
   "source": [
    "We would lose 1.2%. I'm okay with that.\n",
    "Eliminate negative values of day_minus_prev_entries"
   ]
  },
  {
   "cell_type": "code",
   "execution_count": null,
   "metadata": {},
   "outputs": [],
   "source": [
    "turnstiles_daily = turnstiles_daily[turnstiles_daily.day_minus_prev_entries > 0]\n",
    "turnstiles_daily.head()"
   ]
  },
  {
   "cell_type": "markdown",
   "metadata": {},
   "source": [
    "Looking at this data, the day_minus_prev_entries column tells us how many peole entered on a given day at a given turnstile.\n",
    "Now, I'd like to group by station and sum over date to get total entries"
   ]
  },
  {
   "cell_type": "code",
   "execution_count": null,
   "metadata": {},
   "outputs": [],
   "source": [
    "turnstiles_daily.groupby('STATION').day_minus_prev_entries.sum().sort_values(ascending=False).head(20)"
   ]
  },
  {
   "cell_type": "code",
   "execution_count": null,
   "metadata": {},
   "outputs": [],
   "source": []
  },
  {
   "cell_type": "code",
   "execution_count": null,
   "metadata": {},
   "outputs": [],
   "source": []
  }
 ],
 "metadata": {
  "kernelspec": {
   "display_name": "Python 3",
   "language": "python",
   "name": "python3"
  },
  "language_info": {
   "codemirror_mode": {
    "name": "ipython",
    "version": 3
   },
   "file_extension": ".py",
   "mimetype": "text/x-python",
   "name": "python",
   "nbconvert_exporter": "python",
   "pygments_lexer": "ipython3",
   "version": "3.7.4"
  },
  "pycharm": {
   "stem_cell": {
    "cell_type": "raw",
    "metadata": {
     "collapsed": false
    },
    "source": []
   }
  },
  "toc": {
   "base_numbering": 1,
   "nav_menu": {},
   "number_sections": true,
   "sideBar": true,
   "skip_h1_title": false,
   "title_cell": "Table of Contents",
   "title_sidebar": "Contents",
   "toc_cell": false,
   "toc_position": {},
   "toc_section_display": true,
   "toc_window_display": false
  }
 },
 "nbformat": 4,
 "nbformat_minor": 2
}
